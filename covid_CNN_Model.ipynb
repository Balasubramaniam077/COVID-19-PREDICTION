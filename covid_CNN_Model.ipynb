{
  "cells": [
    {
      "cell_type": "code",
      "execution_count": null,
      "metadata": {
        "colab": {
          "base_uri": "https://localhost:8080/"
        },
        "id": "v9sfjKRx5YTv",
        "outputId": "36f16921-91cf-4f89-c51b-60276417cf7d"
      },
      "outputs": [
        {
          "name": "stdout",
          "output_type": "stream",
          "text": [
            "Mounted at /content/drive\n"
          ]
        }
      ],
      "source": [
        "from google.colab import drive\n",
        "drive.mount('/content/drive')"
      ]
    },
    {
      "cell_type": "code",
      "execution_count": null,
      "metadata": {
        "colab": {
          "base_uri": "https://localhost:8080/"
        },
        "id": "E8ehCFE45foM",
        "outputId": "fed97364-f6ff-48cf-d6eb-fb41b9e4713c"
      },
      "outputs": [
        {
          "name": "stdout",
          "output_type": "stream",
          "text": [
            "Archive:  /content/drive/MyDrive/Mycovid.zip\n",
            "   creating: Mycovid/\n",
            "   creating: Mycovid/Test/\n",
            "   creating: Mycovid/Test/Covid-19-N/\n",
            "  inflating: Mycovid/Test/Covid-19-N/aug_1.jpg  \n",
            "  inflating: Mycovid/Test/Covid-19-N/aug_10.jpg  \n",
            "  inflating: Mycovid/Test/Covid-19-N/aug_11.jpg  \n",
            "  inflating: Mycovid/Test/Covid-19-N/aug_12.jpg  \n",
            "  inflating: Mycovid/Test/Covid-19-N/aug_13.jpg  \n",
            "  inflating: Mycovid/Test/Covid-19-N/aug_14.jpg  \n",
            "  inflating: Mycovid/Test/Covid-19-N/aug_15.jpg  \n",
            "  inflating: Mycovid/Test/Covid-19-N/aug_16.jpg  \n",
            "  inflating: Mycovid/Test/Covid-19-N/aug_17.jpg  \n",
            "  inflating: Mycovid/Test/Covid-19-N/aug_18.jpg  \n",
            "  inflating: Mycovid/Test/Covid-19-N/aug_19.jpg  \n",
            "  inflating: Mycovid/Test/Covid-19-N/aug_2.jpg  \n",
            "  inflating: Mycovid/Test/Covid-19-N/aug_20.jpg  \n",
            "  inflating: Mycovid/Test/Covid-19-N/aug_21.jpg  \n",
            "  inflating: Mycovid/Test/Covid-19-N/aug_22.jpg  \n",
            "  inflating: Mycovid/Test/Covid-19-N/aug_23.jpg  \n",
            "  inflating: Mycovid/Test/Covid-19-N/aug_3.jpg  \n",
            "  inflating: Mycovid/Test/Covid-19-N/aug_4.jpg  \n",
            "  inflating: Mycovid/Test/Covid-19-N/aug_5.jpg  \n",
            "  inflating: Mycovid/Test/Covid-19-N/aug_6.jpg  \n",
            "  inflating: Mycovid/Test/Covid-19-N/aug_7.jpg  \n",
            "  inflating: Mycovid/Test/Covid-19-N/aug_8.jpg  \n",
            "  inflating: Mycovid/Test/Covid-19-N/aug_9.jpg  \n",
            "   creating: Mycovid/Test/Covid-19-P/\n",
            "  inflating: Mycovid/Test/Covid-19-P/Positive_ (1).jpeg  \n",
            "  inflating: Mycovid/Test/Covid-19-P/Positive_ (1).jpg  \n",
            "  inflating: Mycovid/Test/Covid-19-P/Positive_ (1).png  \n",
            "  inflating: Mycovid/Test/Covid-19-P/Positive_ (2).jpeg  \n",
            "  inflating: Mycovid/Test/Covid-19-P/Positive_ (2).jpg  \n",
            "  inflating: Mycovid/Test/Covid-19-P/Positive_ (2).png  \n",
            "  inflating: Mycovid/Test/Covid-19-P/Positive_ (3).jpeg  \n",
            "  inflating: Mycovid/Test/Covid-19-P/Positive_ (3).jpg  \n",
            "  inflating: Mycovid/Test/Covid-19-P/Positive_ (3).png  \n",
            "  inflating: Mycovid/Test/Covid-19-P/Positive_ (4).jpeg  \n",
            "  inflating: Mycovid/Test/Covid-19-P/Positive_ (4).jpg  \n",
            "  inflating: Mycovid/Test/Covid-19-P/Positive_ (4).png  \n",
            "  inflating: Mycovid/Test/Covid-19-P/Positive_ (5).jpeg  \n",
            "  inflating: Mycovid/Test/Covid-19-P/Positive_ (5).jpg  \n",
            "  inflating: Mycovid/Test/Covid-19-P/Positive_ (5).png  \n",
            "  inflating: Mycovid/Test/Covid-19-P/Positive_ (6).jpeg  \n",
            "  inflating: Mycovid/Test/Covid-19-P/Positive_ (6).jpg  \n",
            "  inflating: Mycovid/Test/Covid-19-P/Positive_ (6).png  \n",
            "  inflating: Mycovid/Test/Covid-19-P/Positive_ (7).jpeg  \n",
            "  inflating: Mycovid/Test/Covid-19-P/Positive_ (7).jpg  \n",
            "  inflating: Mycovid/Test/Covid-19-P/Positive_ (7).png  \n",
            "  inflating: Mycovid/Test/Covid-19-P/Positive_ (8).jpeg  \n",
            "  inflating: Mycovid/Test/Covid-19-P/Positive_ (8).jpg  \n",
            "   creating: Mycovid/Train/\n",
            "   creating: Mycovid/Train/Covid-19-N/\n",
            "  inflating: Mycovid/Train/Covid-19-N/aug_1.jpg  \n",
            "  inflating: Mycovid/Train/Covid-19-N/aug_10.jpg  \n",
            "  inflating: Mycovid/Train/Covid-19-N/aug_100.jpg  \n",
            "  inflating: Mycovid/Train/Covid-19-N/aug_101.jpg  \n",
            "  inflating: Mycovid/Train/Covid-19-N/aug_102.jpg  \n",
            "  inflating: Mycovid/Train/Covid-19-N/aug_103.jpg  \n",
            "  inflating: Mycovid/Train/Covid-19-N/aug_104.jpg  \n",
            "  inflating: Mycovid/Train/Covid-19-N/aug_105.jpg  \n",
            "  inflating: Mycovid/Train/Covid-19-N/aug_106.jpg  \n",
            "  inflating: Mycovid/Train/Covid-19-N/aug_107.jpg  \n",
            "  inflating: Mycovid/Train/Covid-19-N/aug_108.jpg  \n",
            "  inflating: Mycovid/Train/Covid-19-N/aug_109.jpg  \n",
            "  inflating: Mycovid/Train/Covid-19-N/aug_11.jpg  \n",
            "  inflating: Mycovid/Train/Covid-19-N/aug_110.jpg  \n",
            "  inflating: Mycovid/Train/Covid-19-N/aug_111.jpg  \n",
            "  inflating: Mycovid/Train/Covid-19-N/aug_112.jpg  \n",
            "  inflating: Mycovid/Train/Covid-19-N/aug_113.jpg  \n",
            "  inflating: Mycovid/Train/Covid-19-N/aug_114.jpg  \n",
            "  inflating: Mycovid/Train/Covid-19-N/aug_115.jpg  \n",
            "  inflating: Mycovid/Train/Covid-19-N/aug_116.jpg  \n",
            "  inflating: Mycovid/Train/Covid-19-N/aug_117.jpg  \n",
            "  inflating: Mycovid/Train/Covid-19-N/aug_118.jpg  \n",
            "  inflating: Mycovid/Train/Covid-19-N/aug_119.jpg  \n",
            "  inflating: Mycovid/Train/Covid-19-N/aug_12.jpg  \n",
            "  inflating: Mycovid/Train/Covid-19-N/aug_120.jpg  \n",
            "  inflating: Mycovid/Train/Covid-19-N/aug_121.jpg  \n",
            "  inflating: Mycovid/Train/Covid-19-N/aug_122.jpg  \n",
            "  inflating: Mycovid/Train/Covid-19-N/aug_123.jpg  \n",
            "  inflating: Mycovid/Train/Covid-19-N/aug_124.jpg  \n",
            "  inflating: Mycovid/Train/Covid-19-N/aug_125.jpg  \n",
            "  inflating: Mycovid/Train/Covid-19-N/aug_126.jpg  \n",
            "  inflating: Mycovid/Train/Covid-19-N/aug_127.jpg  \n",
            "  inflating: Mycovid/Train/Covid-19-N/aug_128.jpg  \n",
            "  inflating: Mycovid/Train/Covid-19-N/aug_129.jpg  \n",
            "  inflating: Mycovid/Train/Covid-19-N/aug_13.jpg  \n",
            "  inflating: Mycovid/Train/Covid-19-N/aug_130.jpg  \n",
            "  inflating: Mycovid/Train/Covid-19-N/aug_131.jpg  \n",
            "  inflating: Mycovid/Train/Covid-19-N/aug_132.jpg  \n",
            "  inflating: Mycovid/Train/Covid-19-N/aug_133.jpg  \n",
            "  inflating: Mycovid/Train/Covid-19-N/aug_134.jpg  \n",
            "  inflating: Mycovid/Train/Covid-19-N/aug_135.jpg  \n",
            "  inflating: Mycovid/Train/Covid-19-N/aug_136.jpg  \n",
            "  inflating: Mycovid/Train/Covid-19-N/aug_137.jpg  \n",
            "  inflating: Mycovid/Train/Covid-19-N/aug_138.jpg  \n",
            "  inflating: Mycovid/Train/Covid-19-N/aug_139.jpg  \n",
            "  inflating: Mycovid/Train/Covid-19-N/aug_14.jpg  \n",
            "  inflating: Mycovid/Train/Covid-19-N/aug_140.jpg  \n",
            "  inflating: Mycovid/Train/Covid-19-N/aug_141.jpg  \n",
            "  inflating: Mycovid/Train/Covid-19-N/aug_142.jpg  \n",
            "  inflating: Mycovid/Train/Covid-19-N/aug_143.jpg  \n",
            "  inflating: Mycovid/Train/Covid-19-N/aug_144.jpg  \n",
            "  inflating: Mycovid/Train/Covid-19-N/aug_145.jpg  \n",
            "  inflating: Mycovid/Train/Covid-19-N/aug_146.jpg  \n",
            "  inflating: Mycovid/Train/Covid-19-N/aug_147.jpg  \n",
            "  inflating: Mycovid/Train/Covid-19-N/aug_148.jpg  \n",
            "  inflating: Mycovid/Train/Covid-19-N/aug_149.jpg  \n",
            "  inflating: Mycovid/Train/Covid-19-N/aug_15.jpg  \n",
            "  inflating: Mycovid/Train/Covid-19-N/aug_150.jpg  \n",
            "  inflating: Mycovid/Train/Covid-19-N/aug_151.jpg  \n",
            "  inflating: Mycovid/Train/Covid-19-N/aug_152.jpg  \n",
            "  inflating: Mycovid/Train/Covid-19-N/aug_153.jpg  \n",
            "  inflating: Mycovid/Train/Covid-19-N/aug_154.jpg  \n",
            "  inflating: Mycovid/Train/Covid-19-N/aug_155.jpg  \n",
            "  inflating: Mycovid/Train/Covid-19-N/aug_156.jpg  \n",
            "  inflating: Mycovid/Train/Covid-19-N/aug_157.jpg  \n",
            "  inflating: Mycovid/Train/Covid-19-N/aug_158.jpg  \n",
            "  inflating: Mycovid/Train/Covid-19-N/aug_159.jpg  \n",
            "  inflating: Mycovid/Train/Covid-19-N/aug_16.jpg  \n",
            "  inflating: Mycovid/Train/Covid-19-N/aug_160.jpg  \n",
            "  inflating: Mycovid/Train/Covid-19-N/aug_161.jpg  \n",
            "  inflating: Mycovid/Train/Covid-19-N/aug_162.jpg  \n",
            "  inflating: Mycovid/Train/Covid-19-N/aug_163.jpg  \n",
            "  inflating: Mycovid/Train/Covid-19-N/aug_164.jpg  \n",
            "  inflating: Mycovid/Train/Covid-19-N/aug_165.jpg  \n",
            "  inflating: Mycovid/Train/Covid-19-N/aug_166.jpg  \n",
            "  inflating: Mycovid/Train/Covid-19-N/aug_167.jpg  \n",
            "  inflating: Mycovid/Train/Covid-19-N/aug_168.jpg  \n",
            "  inflating: Mycovid/Train/Covid-19-N/aug_169.jpg  \n",
            "  inflating: Mycovid/Train/Covid-19-N/aug_17.jpg  \n",
            "  inflating: Mycovid/Train/Covid-19-N/aug_170.jpg  \n",
            "  inflating: Mycovid/Train/Covid-19-N/aug_171.jpg  \n",
            "  inflating: Mycovid/Train/Covid-19-N/aug_172.jpg  \n",
            "  inflating: Mycovid/Train/Covid-19-N/aug_173.jpg  \n",
            "  inflating: Mycovid/Train/Covid-19-N/aug_174.jpg  \n",
            "  inflating: Mycovid/Train/Covid-19-N/aug_175.jpg  \n",
            "  inflating: Mycovid/Train/Covid-19-N/aug_176.jpg  \n",
            "  inflating: Mycovid/Train/Covid-19-N/aug_177.jpg  \n",
            "  inflating: Mycovid/Train/Covid-19-N/aug_178.jpg  \n",
            "  inflating: Mycovid/Train/Covid-19-N/aug_179.jpg  \n",
            "  inflating: Mycovid/Train/Covid-19-N/aug_18.jpg  \n",
            "  inflating: Mycovid/Train/Covid-19-N/aug_180.jpg  \n",
            "  inflating: Mycovid/Train/Covid-19-N/aug_181.jpg  \n",
            "  inflating: Mycovid/Train/Covid-19-N/aug_182.jpg  \n",
            "  inflating: Mycovid/Train/Covid-19-N/aug_183.jpg  \n",
            "  inflating: Mycovid/Train/Covid-19-N/aug_184.jpg  \n",
            "  inflating: Mycovid/Train/Covid-19-N/aug_185.jpg  \n",
            "  inflating: Mycovid/Train/Covid-19-N/aug_186.jpg  \n",
            "  inflating: Mycovid/Train/Covid-19-N/aug_187.jpg  \n",
            "  inflating: Mycovid/Train/Covid-19-N/aug_188.jpg  \n",
            "  inflating: Mycovid/Train/Covid-19-N/aug_189.jpg  \n",
            "  inflating: Mycovid/Train/Covid-19-N/aug_19.jpg  \n",
            "  inflating: Mycovid/Train/Covid-19-N/aug_190.jpg  \n",
            "  inflating: Mycovid/Train/Covid-19-N/aug_191.jpg  \n",
            "  inflating: Mycovid/Train/Covid-19-N/aug_192.jpg  \n",
            "  inflating: Mycovid/Train/Covid-19-N/aug_193.jpg  \n",
            "  inflating: Mycovid/Train/Covid-19-N/aug_194.jpg  \n",
            "  inflating: Mycovid/Train/Covid-19-N/aug_195.jpg  \n",
            "  inflating: Mycovid/Train/Covid-19-N/aug_196.jpg  \n",
            "  inflating: Mycovid/Train/Covid-19-N/aug_197.jpg  \n",
            "  inflating: Mycovid/Train/Covid-19-N/aug_198.jpg  \n",
            "  inflating: Mycovid/Train/Covid-19-N/aug_199.jpg  \n",
            "  inflating: Mycovid/Train/Covid-19-N/aug_2.jpg  \n",
            "  inflating: Mycovid/Train/Covid-19-N/aug_20.jpg  \n",
            "  inflating: Mycovid/Train/Covid-19-N/aug_200.jpg  \n",
            "  inflating: Mycovid/Train/Covid-19-N/aug_201.jpg  \n",
            "  inflating: Mycovid/Train/Covid-19-N/aug_202.jpg  \n",
            "  inflating: Mycovid/Train/Covid-19-N/aug_203.jpg  \n",
            "  inflating: Mycovid/Train/Covid-19-N/aug_204.jpg  \n",
            "  inflating: Mycovid/Train/Covid-19-N/aug_205.jpg  \n",
            "  inflating: Mycovid/Train/Covid-19-N/aug_206.jpg  \n",
            "  inflating: Mycovid/Train/Covid-19-N/aug_207.jpg  \n",
            "  inflating: Mycovid/Train/Covid-19-N/aug_208.jpg  \n",
            "  inflating: Mycovid/Train/Covid-19-N/aug_209.jpg  \n",
            "  inflating: Mycovid/Train/Covid-19-N/aug_21.jpg  \n",
            "  inflating: Mycovid/Train/Covid-19-N/aug_210.jpg  \n",
            "  inflating: Mycovid/Train/Covid-19-N/aug_211.jpg  \n",
            "  inflating: Mycovid/Train/Covid-19-N/aug_212.jpg  \n",
            "  inflating: Mycovid/Train/Covid-19-N/aug_213.jpg  \n",
            "  inflating: Mycovid/Train/Covid-19-N/aug_214.jpg  \n",
            "  inflating: Mycovid/Train/Covid-19-N/aug_215.jpg  \n",
            "  inflating: Mycovid/Train/Covid-19-N/aug_216.jpg  \n",
            "  inflating: Mycovid/Train/Covid-19-N/aug_217.jpg  \n",
            "  inflating: Mycovid/Train/Covid-19-N/aug_218.jpg  \n",
            "  inflating: Mycovid/Train/Covid-19-N/aug_219.jpg  \n",
            "  inflating: Mycovid/Train/Covid-19-N/aug_22.jpg  \n",
            "  inflating: Mycovid/Train/Covid-19-N/aug_220.jpg  \n",
            "  inflating: Mycovid/Train/Covid-19-N/aug_221.jpg  \n",
            "  inflating: Mycovid/Train/Covid-19-N/aug_222.jpg  \n",
            "  inflating: Mycovid/Train/Covid-19-N/aug_223.jpg  \n",
            "  inflating: Mycovid/Train/Covid-19-N/aug_224.jpg  \n",
            "  inflating: Mycovid/Train/Covid-19-N/aug_225.jpg  \n",
            "  inflating: Mycovid/Train/Covid-19-N/aug_226.jpg  \n",
            "  inflating: Mycovid/Train/Covid-19-N/aug_227.jpg  \n",
            "  inflating: Mycovid/Train/Covid-19-N/aug_228.jpg  \n",
            "  inflating: Mycovid/Train/Covid-19-N/aug_229.jpg  \n",
            "  inflating: Mycovid/Train/Covid-19-N/aug_23.jpg  \n",
            "  inflating: Mycovid/Train/Covid-19-N/aug_230.jpg  \n",
            "  inflating: Mycovid/Train/Covid-19-N/aug_231.jpg  \n",
            "  inflating: Mycovid/Train/Covid-19-N/aug_232.jpg  \n",
            "  inflating: Mycovid/Train/Covid-19-N/aug_233.jpg  \n",
            "  inflating: Mycovid/Train/Covid-19-N/aug_234.jpg  \n",
            "  inflating: Mycovid/Train/Covid-19-N/aug_235.jpg  \n",
            "  inflating: Mycovid/Train/Covid-19-N/aug_236.jpg  \n",
            "  inflating: Mycovid/Train/Covid-19-N/aug_237.jpg  \n",
            "  inflating: Mycovid/Train/Covid-19-N/aug_238.jpg  \n",
            "  inflating: Mycovid/Train/Covid-19-N/aug_239.jpg  \n",
            "  inflating: Mycovid/Train/Covid-19-N/aug_24.jpg  \n",
            "  inflating: Mycovid/Train/Covid-19-N/aug_240.jpg  \n",
            "  inflating: Mycovid/Train/Covid-19-N/aug_241.jpg  \n",
            "  inflating: Mycovid/Train/Covid-19-N/aug_242.jpg  \n",
            "  inflating: Mycovid/Train/Covid-19-N/aug_243.jpg  \n",
            "  inflating: Mycovid/Train/Covid-19-N/aug_244.jpg  \n",
            "  inflating: Mycovid/Train/Covid-19-N/aug_245.jpg  \n",
            "  inflating: Mycovid/Train/Covid-19-N/aug_246.jpg  \n",
            "  inflating: Mycovid/Train/Covid-19-N/aug_247.jpg  \n",
            "  inflating: Mycovid/Train/Covid-19-N/aug_248.jpg  \n",
            "  inflating: Mycovid/Train/Covid-19-N/aug_249.jpg  \n",
            "  inflating: Mycovid/Train/Covid-19-N/aug_25.jpg  \n",
            "  inflating: Mycovid/Train/Covid-19-N/aug_250.jpg  \n",
            "  inflating: Mycovid/Train/Covid-19-N/aug_26.jpg  \n",
            "  inflating: Mycovid/Train/Covid-19-N/aug_27.jpg  \n",
            "  inflating: Mycovid/Train/Covid-19-N/aug_28.jpg  \n",
            "  inflating: Mycovid/Train/Covid-19-N/aug_29.jpg  \n",
            "  inflating: Mycovid/Train/Covid-19-N/aug_3.jpg  \n",
            "  inflating: Mycovid/Train/Covid-19-N/aug_30.jpg  \n",
            "  inflating: Mycovid/Train/Covid-19-N/aug_31.jpg  \n",
            "  inflating: Mycovid/Train/Covid-19-N/aug_32.jpg  \n",
            "  inflating: Mycovid/Train/Covid-19-N/aug_33.jpg  \n",
            "  inflating: Mycovid/Train/Covid-19-N/aug_34.jpg  \n",
            "  inflating: Mycovid/Train/Covid-19-N/aug_35.jpg  \n",
            "  inflating: Mycovid/Train/Covid-19-N/aug_36.jpg  \n",
            "  inflating: Mycovid/Train/Covid-19-N/aug_37.jpg  \n",
            "  inflating: Mycovid/Train/Covid-19-N/aug_38.jpg  \n",
            "  inflating: Mycovid/Train/Covid-19-N/aug_39.jpg  \n",
            "  inflating: Mycovid/Train/Covid-19-N/aug_4.jpg  \n",
            "  inflating: Mycovid/Train/Covid-19-N/aug_40.jpg  \n",
            "  inflating: Mycovid/Train/Covid-19-N/aug_41.jpg  \n",
            "  inflating: Mycovid/Train/Covid-19-N/aug_42.jpg  \n",
            "  inflating: Mycovid/Train/Covid-19-N/aug_43.jpg  \n",
            "  inflating: Mycovid/Train/Covid-19-N/aug_44.jpg  \n",
            "  inflating: Mycovid/Train/Covid-19-N/aug_45.jpg  \n",
            "  inflating: Mycovid/Train/Covid-19-N/aug_46.jpg  \n",
            "  inflating: Mycovid/Train/Covid-19-N/aug_47.jpg  \n",
            "  inflating: Mycovid/Train/Covid-19-N/aug_48.jpg  \n",
            "  inflating: Mycovid/Train/Covid-19-N/aug_49.jpg  \n",
            "  inflating: Mycovid/Train/Covid-19-N/aug_5.jpg  \n",
            "  inflating: Mycovid/Train/Covid-19-N/aug_50.jpg  \n",
            "  inflating: Mycovid/Train/Covid-19-N/aug_51.jpg  \n",
            "  inflating: Mycovid/Train/Covid-19-N/aug_52.jpg  \n",
            "  inflating: Mycovid/Train/Covid-19-N/aug_53.jpg  \n",
            "  inflating: Mycovid/Train/Covid-19-N/aug_54.jpg  \n",
            "  inflating: Mycovid/Train/Covid-19-N/aug_55.jpg  \n",
            "  inflating: Mycovid/Train/Covid-19-N/aug_56.jpg  \n",
            "  inflating: Mycovid/Train/Covid-19-N/aug_57.jpg  \n",
            "  inflating: Mycovid/Train/Covid-19-N/aug_58.jpg  \n",
            "  inflating: Mycovid/Train/Covid-19-N/aug_59.jpg  \n",
            "  inflating: Mycovid/Train/Covid-19-N/aug_6.jpg  \n",
            "  inflating: Mycovid/Train/Covid-19-N/aug_60.jpg  \n",
            "  inflating: Mycovid/Train/Covid-19-N/aug_61.jpg  \n",
            "  inflating: Mycovid/Train/Covid-19-N/aug_62.jpg  \n",
            "  inflating: Mycovid/Train/Covid-19-N/aug_63.jpg  \n",
            "  inflating: Mycovid/Train/Covid-19-N/aug_64.jpg  \n",
            "  inflating: Mycovid/Train/Covid-19-N/aug_65.jpg  \n",
            "  inflating: Mycovid/Train/Covid-19-N/aug_66.jpg  \n",
            "  inflating: Mycovid/Train/Covid-19-N/aug_67.jpg  \n",
            "  inflating: Mycovid/Train/Covid-19-N/aug_68.jpg  \n",
            "  inflating: Mycovid/Train/Covid-19-N/aug_69.jpg  \n",
            "  inflating: Mycovid/Train/Covid-19-N/aug_7.jpg  \n",
            "  inflating: Mycovid/Train/Covid-19-N/aug_70.jpg  \n",
            "  inflating: Mycovid/Train/Covid-19-N/aug_71.jpg  \n",
            "  inflating: Mycovid/Train/Covid-19-N/aug_72.jpg  \n",
            "  inflating: Mycovid/Train/Covid-19-N/aug_73.jpg  \n",
            "  inflating: Mycovid/Train/Covid-19-N/aug_74.jpg  \n",
            "  inflating: Mycovid/Train/Covid-19-N/aug_75.jpg  \n",
            "  inflating: Mycovid/Train/Covid-19-N/aug_76.jpg  \n",
            "  inflating: Mycovid/Train/Covid-19-N/aug_77.jpg  \n",
            "  inflating: Mycovid/Train/Covid-19-N/aug_78.jpg  \n",
            "  inflating: Mycovid/Train/Covid-19-N/aug_79.jpg  \n",
            "  inflating: Mycovid/Train/Covid-19-N/aug_8.jpg  \n",
            "  inflating: Mycovid/Train/Covid-19-N/aug_80.jpg  \n",
            "  inflating: Mycovid/Train/Covid-19-N/aug_81.jpg  \n",
            "  inflating: Mycovid/Train/Covid-19-N/aug_82.jpg  \n",
            "  inflating: Mycovid/Train/Covid-19-N/aug_83.jpg  \n",
            "  inflating: Mycovid/Train/Covid-19-N/aug_84.jpg  \n",
            "  inflating: Mycovid/Train/Covid-19-N/aug_85.jpg  \n",
            "  inflating: Mycovid/Train/Covid-19-N/aug_86.jpg  \n",
            "  inflating: Mycovid/Train/Covid-19-N/aug_87.jpg  \n",
            "  inflating: Mycovid/Train/Covid-19-N/aug_88.jpg  \n",
            "  inflating: Mycovid/Train/Covid-19-N/aug_89.jpg  \n",
            "  inflating: Mycovid/Train/Covid-19-N/aug_9.jpg  \n",
            "  inflating: Mycovid/Train/Covid-19-N/aug_90.jpg  \n",
            "  inflating: Mycovid/Train/Covid-19-N/aug_91.jpg  \n",
            "  inflating: Mycovid/Train/Covid-19-N/aug_92.jpg  \n",
            "  inflating: Mycovid/Train/Covid-19-N/aug_93.jpg  \n",
            "  inflating: Mycovid/Train/Covid-19-N/aug_94.jpg  \n",
            "  inflating: Mycovid/Train/Covid-19-N/aug_95.jpg  \n",
            "  inflating: Mycovid/Train/Covid-19-N/aug_96.jpg  \n",
            "  inflating: Mycovid/Train/Covid-19-N/aug_97.jpg  \n",
            "  inflating: Mycovid/Train/Covid-19-N/aug_98.jpg  \n",
            "  inflating: Mycovid/Train/Covid-19-N/aug_99.jpg  \n",
            "   creating: Mycovid/Train/Covid-19-P/\n",
            "  inflating: Mycovid/Train/Covid-19-P/Positive_ (1).jpeg  \n",
            "  inflating: Mycovid/Train/Covid-19-P/Positive_ (1).jpg  \n",
            "  inflating: Mycovid/Train/Covid-19-P/Positive_ (1).png  \n",
            "  inflating: Mycovid/Train/Covid-19-P/Positive_ (10).jpeg  \n",
            "  inflating: Mycovid/Train/Covid-19-P/Positive_ (10).jpg  \n",
            "  inflating: Mycovid/Train/Covid-19-P/Positive_ (10).png  \n",
            "  inflating: Mycovid/Train/Covid-19-P/Positive_ (100).jpeg  \n",
            "  inflating: Mycovid/Train/Covid-19-P/Positive_ (100).jpg  \n",
            "  inflating: Mycovid/Train/Covid-19-P/Positive_ (100).png  \n",
            "  inflating: Mycovid/Train/Covid-19-P/Positive_ (101).jpeg  \n",
            "  inflating: Mycovid/Train/Covid-19-P/Positive_ (101).jpg  \n",
            "  inflating: Mycovid/Train/Covid-19-P/Positive_ (101).png  \n",
            "  inflating: Mycovid/Train/Covid-19-P/Positive_ (102).jpeg  \n",
            "  inflating: Mycovid/Train/Covid-19-P/Positive_ (102).jpg  \n",
            "  inflating: Mycovid/Train/Covid-19-P/Positive_ (102).png  \n",
            "  inflating: Mycovid/Train/Covid-19-P/Positive_ (103).jpeg  \n",
            "  inflating: Mycovid/Train/Covid-19-P/Positive_ (103).jpg  \n",
            "  inflating: Mycovid/Train/Covid-19-P/Positive_ (103).png  \n",
            "  inflating: Mycovid/Train/Covid-19-P/Positive_ (104).jpeg  \n",
            "  inflating: Mycovid/Train/Covid-19-P/Positive_ (104).jpg  \n",
            "  inflating: Mycovid/Train/Covid-19-P/Positive_ (104).png  \n",
            "  inflating: Mycovid/Train/Covid-19-P/Positive_ (105).jpeg  \n",
            "  inflating: Mycovid/Train/Covid-19-P/Positive_ (105).jpg  \n",
            "  inflating: Mycovid/Train/Covid-19-P/Positive_ (105).png  \n",
            "  inflating: Mycovid/Train/Covid-19-P/Positive_ (106).jpeg  \n",
            "  inflating: Mycovid/Train/Covid-19-P/Positive_ (106).jpg  \n",
            "  inflating: Mycovid/Train/Covid-19-P/Positive_ (106).png  \n",
            "  inflating: Mycovid/Train/Covid-19-P/Positive_ (107).jpeg  \n",
            "  inflating: Mycovid/Train/Covid-19-P/Positive_ (107).jpg  \n",
            "  inflating: Mycovid/Train/Covid-19-P/Positive_ (107).png  \n",
            "  inflating: Mycovid/Train/Covid-19-P/Positive_ (108).jpeg  \n",
            "  inflating: Mycovid/Train/Covid-19-P/Positive_ (108).jpg  \n",
            "  inflating: Mycovid/Train/Covid-19-P/Positive_ (108).png  \n",
            "  inflating: Mycovid/Train/Covid-19-P/Positive_ (109).jpeg  \n",
            "  inflating: Mycovid/Train/Covid-19-P/Positive_ (109).jpg  \n",
            "  inflating: Mycovid/Train/Covid-19-P/Positive_ (109).png  \n",
            "  inflating: Mycovid/Train/Covid-19-P/Positive_ (11).jpeg  \n",
            "  inflating: Mycovid/Train/Covid-19-P/Positive_ (11).jpg  \n",
            "  inflating: Mycovid/Train/Covid-19-P/Positive_ (11).png  \n",
            "  inflating: Mycovid/Train/Covid-19-P/Positive_ (110).jpeg  \n",
            "  inflating: Mycovid/Train/Covid-19-P/Positive_ (110).jpg  \n",
            "  inflating: Mycovid/Train/Covid-19-P/Positive_ (110).png  \n",
            "  inflating: Mycovid/Train/Covid-19-P/Positive_ (111).jpeg  \n",
            "  inflating: Mycovid/Train/Covid-19-P/Positive_ (111).jpg  \n",
            "  inflating: Mycovid/Train/Covid-19-P/Positive_ (111).png  \n",
            "  inflating: Mycovid/Train/Covid-19-P/Positive_ (112).jpeg  \n",
            "  inflating: Mycovid/Train/Covid-19-P/Positive_ (112).jpg  \n",
            "  inflating: Mycovid/Train/Covid-19-P/Positive_ (112).png  \n",
            "  inflating: Mycovid/Train/Covid-19-P/Positive_ (113).jpeg  \n",
            "  inflating: Mycovid/Train/Covid-19-P/Positive_ (113).jpg  \n",
            "  inflating: Mycovid/Train/Covid-19-P/Positive_ (113).png  \n",
            "  inflating: Mycovid/Train/Covid-19-P/Positive_ (114).jpeg  \n",
            "  inflating: Mycovid/Train/Covid-19-P/Positive_ (114).jpg  \n",
            "  inflating: Mycovid/Train/Covid-19-P/Positive_ (114).png  \n",
            "  inflating: Mycovid/Train/Covid-19-P/Positive_ (115).jpeg  \n",
            "  inflating: Mycovid/Train/Covid-19-P/Positive_ (115).jpg  \n",
            "  inflating: Mycovid/Train/Covid-19-P/Positive_ (115).png  \n",
            "  inflating: Mycovid/Train/Covid-19-P/Positive_ (116).jpeg  \n",
            "  inflating: Mycovid/Train/Covid-19-P/Positive_ (116).jpg  \n",
            "  inflating: Mycovid/Train/Covid-19-P/Positive_ (116).png  \n",
            "  inflating: Mycovid/Train/Covid-19-P/Positive_ (117).jpeg  \n",
            "  inflating: Mycovid/Train/Covid-19-P/Positive_ (117).jpg  \n",
            "  inflating: Mycovid/Train/Covid-19-P/Positive_ (117).png  \n",
            "  inflating: Mycovid/Train/Covid-19-P/Positive_ (118).jpeg  \n",
            "  inflating: Mycovid/Train/Covid-19-P/Positive_ (118).jpg  \n",
            "  inflating: Mycovid/Train/Covid-19-P/Positive_ (118).png  \n",
            "  inflating: Mycovid/Train/Covid-19-P/Positive_ (119).jpeg  \n",
            "  inflating: Mycovid/Train/Covid-19-P/Positive_ (119).jpg  \n",
            "  inflating: Mycovid/Train/Covid-19-P/Positive_ (119).png  \n",
            "  inflating: Mycovid/Train/Covid-19-P/Positive_ (12).jpeg  \n",
            "  inflating: Mycovid/Train/Covid-19-P/Positive_ (12).jpg  \n",
            "  inflating: Mycovid/Train/Covid-19-P/Positive_ (12).png  \n",
            "  inflating: Mycovid/Train/Covid-19-P/Positive_ (120).jpeg  \n",
            "  inflating: Mycovid/Train/Covid-19-P/Positive_ (120).jpg  \n",
            "  inflating: Mycovid/Train/Covid-19-P/Positive_ (120).png  \n",
            "  inflating: Mycovid/Train/Covid-19-P/Positive_ (121).jpeg  \n",
            "  inflating: Mycovid/Train/Covid-19-P/Positive_ (121).jpg  \n",
            "  inflating: Mycovid/Train/Covid-19-P/Positive_ (121).png  \n",
            "  inflating: Mycovid/Train/Covid-19-P/Positive_ (122).jpeg  \n",
            "  inflating: Mycovid/Train/Covid-19-P/Positive_ (122).jpg  \n",
            "  inflating: Mycovid/Train/Covid-19-P/Positive_ (122).png  \n",
            "  inflating: Mycovid/Train/Covid-19-P/Positive_ (123).jpeg  \n",
            "  inflating: Mycovid/Train/Covid-19-P/Positive_ (123).jpg  \n",
            "  inflating: Mycovid/Train/Covid-19-P/Positive_ (123).png  \n",
            "  inflating: Mycovid/Train/Covid-19-P/Positive_ (124).jpeg  \n",
            "  inflating: Mycovid/Train/Covid-19-P/Positive_ (124).jpg  \n",
            "  inflating: Mycovid/Train/Covid-19-P/Positive_ (124).png  \n",
            "  inflating: Mycovid/Train/Covid-19-P/Positive_ (125).jpeg  \n",
            "  inflating: Mycovid/Train/Covid-19-P/Positive_ (125).jpg  \n",
            "  inflating: Mycovid/Train/Covid-19-P/Positive_ (125).png  \n",
            "  inflating: Mycovid/Train/Covid-19-P/Positive_ (126).jpeg  \n",
            "  inflating: Mycovid/Train/Covid-19-P/Positive_ (126).jpg  \n",
            "  inflating: Mycovid/Train/Covid-19-P/Positive_ (126).png  \n",
            "  inflating: Mycovid/Train/Covid-19-P/Positive_ (127).jpeg  \n",
            "  inflating: Mycovid/Train/Covid-19-P/Positive_ (127).jpg  \n",
            "  inflating: Mycovid/Train/Covid-19-P/Positive_ (127).png  \n",
            "  inflating: Mycovid/Train/Covid-19-P/Positive_ (128).jpeg  \n",
            "  inflating: Mycovid/Train/Covid-19-P/Positive_ (128).jpg  \n",
            "  inflating: Mycovid/Train/Covid-19-P/Positive_ (128).png  \n",
            "  inflating: Mycovid/Train/Covid-19-P/Positive_ (129).jpeg  \n",
            "  inflating: Mycovid/Train/Covid-19-P/Positive_ (129).jpg  \n",
            "  inflating: Mycovid/Train/Covid-19-P/Positive_ (129).png  \n",
            "  inflating: Mycovid/Train/Covid-19-P/Positive_ (13).jpeg  \n",
            "  inflating: Mycovid/Train/Covid-19-P/Positive_ (13).jpg  \n",
            "  inflating: Mycovid/Train/Covid-19-P/Positive_ (13).png  \n",
            "  inflating: Mycovid/Train/Covid-19-P/Positive_ (130).jpeg  \n",
            "  inflating: Mycovid/Train/Covid-19-P/Positive_ (130).jpg  \n",
            "  inflating: Mycovid/Train/Covid-19-P/Positive_ (130).png  \n",
            "  inflating: Mycovid/Train/Covid-19-P/Positive_ (131).jpeg  \n",
            "  inflating: Mycovid/Train/Covid-19-P/Positive_ (131).jpg  \n",
            "  inflating: Mycovid/Train/Covid-19-P/Positive_ (131).png  \n",
            "  inflating: Mycovid/Train/Covid-19-P/Positive_ (132).jpeg  \n",
            "  inflating: Mycovid/Train/Covid-19-P/Positive_ (132).jpg  \n",
            "  inflating: Mycovid/Train/Covid-19-P/Positive_ (132).png  \n",
            "  inflating: Mycovid/Train/Covid-19-P/Positive_ (133).jpeg  \n",
            "  inflating: Mycovid/Train/Covid-19-P/Positive_ (133).jpg  \n",
            "  inflating: Mycovid/Train/Covid-19-P/Positive_ (133).png  \n",
            "  inflating: Mycovid/Train/Covid-19-P/Positive_ (134).jpeg  \n",
            "  inflating: Mycovid/Train/Covid-19-P/Positive_ (134).jpg  \n",
            "  inflating: Mycovid/Train/Covid-19-P/Positive_ (134).png  \n",
            "  inflating: Mycovid/Train/Covid-19-P/Positive_ (135).jpeg  \n",
            "  inflating: Mycovid/Train/Covid-19-P/Positive_ (135).jpg  \n",
            "  inflating: Mycovid/Train/Covid-19-P/Positive_ (135).png  \n",
            "  inflating: Mycovid/Train/Covid-19-P/Positive_ (136).jpeg  \n",
            "  inflating: Mycovid/Train/Covid-19-P/Positive_ (136).jpg  \n",
            "  inflating: Mycovid/Train/Covid-19-P/Positive_ (136).png  \n",
            "  inflating: Mycovid/Train/Covid-19-P/Positive_ (137).jpeg  \n",
            "  inflating: Mycovid/Train/Covid-19-P/Positive_ (137).jpg  \n",
            "  inflating: Mycovid/Train/Covid-19-P/Positive_ (137).png  \n",
            "  inflating: Mycovid/Train/Covid-19-P/Positive_ (138).jpeg  \n",
            "  inflating: Mycovid/Train/Covid-19-P/Positive_ (138).jpg  \n",
            "  inflating: Mycovid/Train/Covid-19-P/Positive_ (138).png  \n",
            "  inflating: Mycovid/Train/Covid-19-P/Positive_ (139).jpg  \n",
            "  inflating: Mycovid/Train/Covid-19-P/Positive_ (139).png  \n",
            "  inflating: Mycovid/Train/Covid-19-P/Positive_ (14).jpeg  \n",
            "  inflating: Mycovid/Train/Covid-19-P/Positive_ (14).jpg  \n",
            "  inflating: Mycovid/Train/Covid-19-P/Positive_ (14).png  \n",
            "  inflating: Mycovid/Train/Covid-19-P/Positive_ (140).jpg  \n",
            "  inflating: Mycovid/Train/Covid-19-P/Positive_ (140).png  \n",
            "  inflating: Mycovid/Train/Covid-19-P/Positive_ (141).jpg  \n",
            "  inflating: Mycovid/Train/Covid-19-P/Positive_ (141).png  \n",
            "  inflating: Mycovid/Train/Covid-19-P/Positive_ (142).jpg  \n",
            "  inflating: Mycovid/Train/Covid-19-P/Positive_ (142).png  \n",
            "  inflating: Mycovid/Train/Covid-19-P/Positive_ (143).jpg  \n",
            "  inflating: Mycovid/Train/Covid-19-P/Positive_ (143).png  \n",
            "  inflating: Mycovid/Train/Covid-19-P/Positive_ (144).jpg  \n",
            "  inflating: Mycovid/Train/Covid-19-P/Positive_ (144).png  \n",
            "  inflating: Mycovid/Train/Covid-19-P/Positive_ (145).jpg  \n",
            "  inflating: Mycovid/Train/Covid-19-P/Positive_ (145).png  \n",
            "  inflating: Mycovid/Train/Covid-19-P/Positive_ (146).jpg  \n",
            "  inflating: Mycovid/Train/Covid-19-P/Positive_ (146).png  \n",
            "  inflating: Mycovid/Train/Covid-19-P/Positive_ (147).jpg  \n",
            "  inflating: Mycovid/Train/Covid-19-P/Positive_ (147).png  \n",
            "  inflating: Mycovid/Train/Covid-19-P/Positive_ (148).jpg  \n",
            "  inflating: Mycovid/Train/Covid-19-P/Positive_ (148).png  \n",
            "  inflating: Mycovid/Train/Covid-19-P/Positive_ (149).jpg  \n",
            "  inflating: Mycovid/Train/Covid-19-P/Positive_ (149).png  \n",
            "  inflating: Mycovid/Train/Covid-19-P/Positive_ (15).jpeg  \n",
            "  inflating: Mycovid/Train/Covid-19-P/Positive_ (15).jpg  \n",
            "  inflating: Mycovid/Train/Covid-19-P/Positive_ (15).png  \n",
            "  inflating: Mycovid/Train/Covid-19-P/Positive_ (150).jpg  \n",
            "  inflating: Mycovid/Train/Covid-19-P/Positive_ (150).png  \n",
            "  inflating: Mycovid/Train/Covid-19-P/Positive_ (151).jpg  \n",
            "  inflating: Mycovid/Train/Covid-19-P/Positive_ (152).jpg  \n",
            "  inflating: Mycovid/Train/Covid-19-P/Positive_ (153).jpg  \n",
            "  inflating: Mycovid/Train/Covid-19-P/Positive_ (154).jpg  \n",
            "  inflating: Mycovid/Train/Covid-19-P/Positive_ (155).jpg  \n",
            "  inflating: Mycovid/Train/Covid-19-P/Positive_ (156).jpg  \n",
            "  inflating: Mycovid/Train/Covid-19-P/Positive_ (157).jpg  \n",
            "  inflating: Mycovid/Train/Covid-19-P/Positive_ (158).jpg  \n",
            "  inflating: Mycovid/Train/Covid-19-P/Positive_ (159).jpg  \n",
            "  inflating: Mycovid/Train/Covid-19-P/Positive_ (16).jpeg  \n",
            "  inflating: Mycovid/Train/Covid-19-P/Positive_ (16).jpg  \n",
            "  inflating: Mycovid/Train/Covid-19-P/Positive_ (16).png  \n",
            "  inflating: Mycovid/Train/Covid-19-P/Positive_ (160).jpg  \n",
            "  inflating: Mycovid/Train/Covid-19-P/Positive_ (161).jpg  \n",
            "  inflating: Mycovid/Train/Covid-19-P/Positive_ (162).jpg  \n",
            "  inflating: Mycovid/Train/Covid-19-P/Positive_ (163).jpg  \n",
            "  inflating: Mycovid/Train/Covid-19-P/Positive_ (164).jpg  \n",
            "  inflating: Mycovid/Train/Covid-19-P/Positive_ (165).jpg  \n",
            "  inflating: Mycovid/Train/Covid-19-P/Positive_ (166).jpg  \n",
            "  inflating: Mycovid/Train/Covid-19-P/Positive_ (167).jpg  \n",
            "  inflating: Mycovid/Train/Covid-19-P/Positive_ (168).jpg  \n",
            "  inflating: Mycovid/Train/Covid-19-P/Positive_ (169).jpg  \n",
            "  inflating: Mycovid/Train/Covid-19-P/Positive_ (17).jpeg  \n",
            "  inflating: Mycovid/Train/Covid-19-P/Positive_ (17).jpg  \n",
            "  inflating: Mycovid/Train/Covid-19-P/Positive_ (17).png  \n",
            "  inflating: Mycovid/Train/Covid-19-P/Positive_ (170).jpg  \n",
            "  inflating: Mycovid/Train/Covid-19-P/Positive_ (171).jpg  \n",
            "  inflating: Mycovid/Train/Covid-19-P/Positive_ (172).jpg  \n",
            "  inflating: Mycovid/Train/Covid-19-P/Positive_ (173).jpg  \n",
            "  inflating: Mycovid/Train/Covid-19-P/Positive_ (174).jpg  \n",
            "  inflating: Mycovid/Train/Covid-19-P/Positive_ (175).jpg  \n",
            "  inflating: Mycovid/Train/Covid-19-P/Positive_ (176).jpg  \n",
            "  inflating: Mycovid/Train/Covid-19-P/Positive_ (177).jpg  \n",
            "  inflating: Mycovid/Train/Covid-19-P/Positive_ (178).jpg  \n",
            "  inflating: Mycovid/Train/Covid-19-P/Positive_ (179).jpg  \n",
            "  inflating: Mycovid/Train/Covid-19-P/Positive_ (18).jpeg  \n",
            "  inflating: Mycovid/Train/Covid-19-P/Positive_ (18).jpg  \n",
            "  inflating: Mycovid/Train/Covid-19-P/Positive_ (18).png  \n",
            "  inflating: Mycovid/Train/Covid-19-P/Positive_ (180).jpg  \n",
            "  inflating: Mycovid/Train/Covid-19-P/Positive_ (181).jpg  \n",
            "  inflating: Mycovid/Train/Covid-19-P/Positive_ (182).JPG  \n",
            "  inflating: Mycovid/Train/Covid-19-P/Positive_ (183).jpg  \n",
            "  inflating: Mycovid/Train/Covid-19-P/Positive_ (184).jpg  \n",
            "  inflating: Mycovid/Train/Covid-19-P/Positive_ (185).jpg  \n",
            "  inflating: Mycovid/Train/Covid-19-P/Positive_ (186).jpg  \n",
            "  inflating: Mycovid/Train/Covid-19-P/Positive_ (187).jpg  \n",
            "  inflating: Mycovid/Train/Covid-19-P/Positive_ (188).jpg  \n",
            "  inflating: Mycovid/Train/Covid-19-P/Positive_ (189).jpg  \n",
            "  inflating: Mycovid/Train/Covid-19-P/Positive_ (19).jpeg  \n",
            "  inflating: Mycovid/Train/Covid-19-P/Positive_ (19).jpg  \n",
            "  inflating: Mycovid/Train/Covid-19-P/Positive_ (19).png  \n",
            "  inflating: Mycovid/Train/Covid-19-P/Positive_ (190).jpg  \n",
            "  inflating: Mycovid/Train/Covid-19-P/Positive_ (191).jpg  \n",
            "  inflating: Mycovid/Train/Covid-19-P/Positive_ (192).jpg  \n",
            "  inflating: Mycovid/Train/Covid-19-P/Positive_ (193).jpg  \n",
            "  inflating: Mycovid/Train/Covid-19-P/Positive_ (194).jpg  \n",
            "  inflating: Mycovid/Train/Covid-19-P/Positive_ (195).jpg  \n",
            "  inflating: Mycovid/Train/Covid-19-P/Positive_ (196).jpg  \n",
            "  inflating: Mycovid/Train/Covid-19-P/Positive_ (197).jpg  \n",
            "  inflating: Mycovid/Train/Covid-19-P/Positive_ (198).jpg  \n",
            "  inflating: Mycovid/Train/Covid-19-P/Positive_ (199).jpg  \n",
            "  inflating: Mycovid/Train/Covid-19-P/Positive_ (2).jpeg  \n",
            "  inflating: Mycovid/Train/Covid-19-P/Positive_ (2).jpg  \n",
            "  inflating: Mycovid/Train/Covid-19-P/Positive_ (2).png  \n",
            "  inflating: Mycovid/Train/Covid-19-P/Positive_ (20).jpeg  \n",
            "  inflating: Mycovid/Train/Covid-19-P/Positive_ (20).jpg  \n",
            "  inflating: Mycovid/Train/Covid-19-P/Positive_ (20).png  \n",
            "  inflating: Mycovid/Train/Covid-19-P/Positive_ (200).jpg  \n",
            "  inflating: Mycovid/Train/Covid-19-P/Positive_ (201).jpg  \n",
            "  inflating: Mycovid/Train/Covid-19-P/Positive_ (202).jpg  \n",
            "  inflating: Mycovid/Train/Covid-19-P/Positive_ (203).jpg  \n",
            "  inflating: Mycovid/Train/Covid-19-P/Positive_ (204).jpg  \n",
            "  inflating: Mycovid/Train/Covid-19-P/Positive_ (205).jpg  \n",
            "  inflating: Mycovid/Train/Covid-19-P/Positive_ (206).jpg  \n",
            "  inflating: Mycovid/Train/Covid-19-P/Positive_ (207).jpg  \n",
            "  inflating: Mycovid/Train/Covid-19-P/Positive_ (208).jpg  \n",
            "  inflating: Mycovid/Train/Covid-19-P/Positive_ (209).jpg  \n",
            "  inflating: Mycovid/Train/Covid-19-P/Positive_ (21).jpeg  \n",
            "  inflating: Mycovid/Train/Covid-19-P/Positive_ (21).jpg  \n",
            "  inflating: Mycovid/Train/Covid-19-P/Positive_ (21).png  \n",
            "  inflating: Mycovid/Train/Covid-19-P/Positive_ (210).jpg  \n",
            "  inflating: Mycovid/Train/Covid-19-P/Positive_ (211).jpg  \n",
            "  inflating: Mycovid/Train/Covid-19-P/Positive_ (212).jpg  \n",
            "  inflating: Mycovid/Train/Covid-19-P/Positive_ (213).jpg  \n",
            "  inflating: Mycovid/Train/Covid-19-P/Positive_ (214).jpg  \n",
            "  inflating: Mycovid/Train/Covid-19-P/Positive_ (215).jpg  \n",
            "  inflating: Mycovid/Train/Covid-19-P/Positive_ (216).jpg  \n",
            "  inflating: Mycovid/Train/Covid-19-P/Positive_ (217).jpg  \n",
            "  inflating: Mycovid/Train/Covid-19-P/Positive_ (218).jpg  \n",
            "  inflating: Mycovid/Train/Covid-19-P/Positive_ (219).jpg  \n",
            "  inflating: Mycovid/Train/Covid-19-P/Positive_ (22).jpeg  \n",
            "  inflating: Mycovid/Train/Covid-19-P/Positive_ (22).jpg  \n",
            "  inflating: Mycovid/Train/Covid-19-P/Positive_ (22).png  \n",
            "  inflating: Mycovid/Train/Covid-19-P/Positive_ (220).jpg  \n",
            "  inflating: Mycovid/Train/Covid-19-P/Positive_ (221).jpg  \n",
            "  inflating: Mycovid/Train/Covid-19-P/Positive_ (222).jpg  \n",
            "  inflating: Mycovid/Train/Covid-19-P/Positive_ (223).jpg  \n",
            "  inflating: Mycovid/Train/Covid-19-P/Positive_ (224).jpg  \n",
            "  inflating: Mycovid/Train/Covid-19-P/Positive_ (225).jpg  \n",
            "  inflating: Mycovid/Train/Covid-19-P/Positive_ (226).jpg  \n",
            "  inflating: Mycovid/Train/Covid-19-P/Positive_ (227).jpg  \n",
            "  inflating: Mycovid/Train/Covid-19-P/Positive_ (228).jpg  \n",
            "  inflating: Mycovid/Train/Covid-19-P/Positive_ (229).jpg  \n",
            "  inflating: Mycovid/Train/Covid-19-P/Positive_ (23).jpeg  \n",
            "  inflating: Mycovid/Train/Covid-19-P/Positive_ (23).jpg  \n",
            "  inflating: Mycovid/Train/Covid-19-P/Positive_ (23).png  \n",
            "  inflating: Mycovid/Train/Covid-19-P/Positive_ (230).jpg  \n",
            "  inflating: Mycovid/Train/Covid-19-P/Positive_ (231).jpg  \n",
            "  inflating: Mycovid/Train/Covid-19-P/Positive_ (232).jpg  \n",
            "  inflating: Mycovid/Train/Covid-19-P/Positive_ (233).jpg  \n",
            "  inflating: Mycovid/Train/Covid-19-P/Positive_ (234).jpg  \n",
            "  inflating: Mycovid/Train/Covid-19-P/Positive_ (235).jpg  \n",
            "  inflating: Mycovid/Train/Covid-19-P/Positive_ (236).jpg  \n",
            "  inflating: Mycovid/Train/Covid-19-P/Positive_ (237).jpg  \n",
            "  inflating: Mycovid/Train/Covid-19-P/Positive_ (238).jpg  \n",
            "  inflating: Mycovid/Train/Covid-19-P/Positive_ (239).jpg  \n",
            "  inflating: Mycovid/Train/Covid-19-P/Positive_ (24).jpeg  \n",
            "  inflating: Mycovid/Train/Covid-19-P/Positive_ (24).jpg  \n",
            "  inflating: Mycovid/Train/Covid-19-P/Positive_ (24).png  \n",
            "  inflating: Mycovid/Train/Covid-19-P/Positive_ (240).jpg  \n",
            "  inflating: Mycovid/Train/Covid-19-P/Positive_ (241).jpg  \n",
            "  inflating: Mycovid/Train/Covid-19-P/Positive_ (242).jpg  \n",
            "  inflating: Mycovid/Train/Covid-19-P/Positive_ (243).jpg  \n",
            "  inflating: Mycovid/Train/Covid-19-P/Positive_ (244).jpg  \n",
            "  inflating: Mycovid/Train/Covid-19-P/Positive_ (245).jpg  \n",
            "  inflating: Mycovid/Train/Covid-19-P/Positive_ (246).jpg  \n",
            "  inflating: Mycovid/Train/Covid-19-P/Positive_ (247).jpg  \n",
            "  inflating: Mycovid/Train/Covid-19-P/Positive_ (248).jpg  \n",
            "  inflating: Mycovid/Train/Covid-19-P/Positive_ (249).jpg  \n",
            "  inflating: Mycovid/Train/Covid-19-P/Positive_ (25).jpeg  \n",
            "  inflating: Mycovid/Train/Covid-19-P/Positive_ (25).jpg  \n",
            "  inflating: Mycovid/Train/Covid-19-P/Positive_ (25).png  \n",
            "  inflating: Mycovid/Train/Covid-19-P/Positive_ (250).jpg  \n",
            "  inflating: Mycovid/Train/Covid-19-P/Positive_ (26).jpeg  \n",
            "  inflating: Mycovid/Train/Covid-19-P/Positive_ (26).jpg  \n",
            "  inflating: Mycovid/Train/Covid-19-P/Positive_ (26).png  \n",
            "  inflating: Mycovid/Train/Covid-19-P/Positive_ (27).jpeg  \n",
            "  inflating: Mycovid/Train/Covid-19-P/Positive_ (27).jpg  \n",
            "  inflating: Mycovid/Train/Covid-19-P/Positive_ (27).png  \n",
            "  inflating: Mycovid/Train/Covid-19-P/Positive_ (28).jpeg  \n",
            "  inflating: Mycovid/Train/Covid-19-P/Positive_ (28).jpg  \n",
            "  inflating: Mycovid/Train/Covid-19-P/Positive_ (28).png  \n",
            "  inflating: Mycovid/Train/Covid-19-P/Positive_ (29).jpeg  \n",
            "  inflating: Mycovid/Train/Covid-19-P/Positive_ (29).jpg  \n",
            "  inflating: Mycovid/Train/Covid-19-P/Positive_ (29).png  \n",
            "  inflating: Mycovid/Train/Covid-19-P/Positive_ (3).jpeg  \n",
            "  inflating: Mycovid/Train/Covid-19-P/Positive_ (3).jpg  \n",
            "  inflating: Mycovid/Train/Covid-19-P/Positive_ (3).png  \n",
            "  inflating: Mycovid/Train/Covid-19-P/Positive_ (30).jpeg  \n",
            "  inflating: Mycovid/Train/Covid-19-P/Positive_ (30).jpg  \n",
            "  inflating: Mycovid/Train/Covid-19-P/Positive_ (30).png  \n",
            "  inflating: Mycovid/Train/Covid-19-P/Positive_ (31).jpeg  \n",
            "  inflating: Mycovid/Train/Covid-19-P/Positive_ (31).jpg  \n",
            "  inflating: Mycovid/Train/Covid-19-P/Positive_ (31).png  \n",
            "  inflating: Mycovid/Train/Covid-19-P/Positive_ (32).jpeg  \n",
            "  inflating: Mycovid/Train/Covid-19-P/Positive_ (32).jpg  \n",
            "  inflating: Mycovid/Train/Covid-19-P/Positive_ (32).png  \n",
            "  inflating: Mycovid/Train/Covid-19-P/Positive_ (33).jpeg  \n",
            "  inflating: Mycovid/Train/Covid-19-P/Positive_ (33).jpg  \n",
            "  inflating: Mycovid/Train/Covid-19-P/Positive_ (33).png  \n",
            "  inflating: Mycovid/Train/Covid-19-P/Positive_ (34).jpeg  \n",
            "  inflating: Mycovid/Train/Covid-19-P/Positive_ (34).jpg  \n",
            "  inflating: Mycovid/Train/Covid-19-P/Positive_ (34).png  \n",
            "  inflating: Mycovid/Train/Covid-19-P/Positive_ (35).jpeg  \n",
            "  inflating: Mycovid/Train/Covid-19-P/Positive_ (35).jpg  \n",
            "  inflating: Mycovid/Train/Covid-19-P/Positive_ (35).png  \n",
            "  inflating: Mycovid/Train/Covid-19-P/Positive_ (36).jpeg  \n",
            "  inflating: Mycovid/Train/Covid-19-P/Positive_ (36).jpg  \n",
            "  inflating: Mycovid/Train/Covid-19-P/Positive_ (36).png  \n",
            "  inflating: Mycovid/Train/Covid-19-P/Positive_ (37).jpeg  \n",
            "  inflating: Mycovid/Train/Covid-19-P/Positive_ (37).jpg  \n",
            "  inflating: Mycovid/Train/Covid-19-P/Positive_ (37).png  \n",
            "  inflating: Mycovid/Train/Covid-19-P/Positive_ (38).jpeg  \n",
            "  inflating: Mycovid/Train/Covid-19-P/Positive_ (38).jpg  \n",
            "  inflating: Mycovid/Train/Covid-19-P/Positive_ (38).png  \n",
            "  inflating: Mycovid/Train/Covid-19-P/Positive_ (39).jpeg  \n",
            "  inflating: Mycovid/Train/Covid-19-P/Positive_ (39).jpg  \n",
            "  inflating: Mycovid/Train/Covid-19-P/Positive_ (39).png  \n",
            "  inflating: Mycovid/Train/Covid-19-P/Positive_ (4).jpeg  \n",
            "  inflating: Mycovid/Train/Covid-19-P/Positive_ (4).jpg  \n",
            "  inflating: Mycovid/Train/Covid-19-P/Positive_ (4).png  \n",
            "  inflating: Mycovid/Train/Covid-19-P/Positive_ (40).jpeg  \n",
            "  inflating: Mycovid/Train/Covid-19-P/Positive_ (40).jpg  \n",
            "  inflating: Mycovid/Train/Covid-19-P/Positive_ (40).png  \n",
            "  inflating: Mycovid/Train/Covid-19-P/Positive_ (41).jpeg  \n",
            "  inflating: Mycovid/Train/Covid-19-P/Positive_ (41).jpg  \n",
            "  inflating: Mycovid/Train/Covid-19-P/Positive_ (41).png  \n",
            "  inflating: Mycovid/Train/Covid-19-P/Positive_ (42).jpeg  \n",
            "  inflating: Mycovid/Train/Covid-19-P/Positive_ (42).jpg  \n",
            "  inflating: Mycovid/Train/Covid-19-P/Positive_ (42).png  \n",
            "  inflating: Mycovid/Train/Covid-19-P/Positive_ (43).jpeg  \n",
            "  inflating: Mycovid/Train/Covid-19-P/Positive_ (43).jpg  \n",
            "  inflating: Mycovid/Train/Covid-19-P/Positive_ (43).png  \n",
            "  inflating: Mycovid/Train/Covid-19-P/Positive_ (44).jpeg  \n",
            "  inflating: Mycovid/Train/Covid-19-P/Positive_ (44).jpg  \n",
            "  inflating: Mycovid/Train/Covid-19-P/Positive_ (44).png  \n",
            "  inflating: Mycovid/Train/Covid-19-P/Positive_ (45).jpeg  \n",
            "  inflating: Mycovid/Train/Covid-19-P/Positive_ (45).jpg  \n",
            "  inflating: Mycovid/Train/Covid-19-P/Positive_ (45).png  \n",
            "  inflating: Mycovid/Train/Covid-19-P/Positive_ (46).jpeg  \n",
            "  inflating: Mycovid/Train/Covid-19-P/Positive_ (46).jpg  \n",
            "  inflating: Mycovid/Train/Covid-19-P/Positive_ (46).png  \n",
            "  inflating: Mycovid/Train/Covid-19-P/Positive_ (47).jpeg  \n",
            "  inflating: Mycovid/Train/Covid-19-P/Positive_ (47).jpg  \n",
            "  inflating: Mycovid/Train/Covid-19-P/Positive_ (47).png  \n",
            "  inflating: Mycovid/Train/Covid-19-P/Positive_ (48).jpeg  \n",
            "  inflating: Mycovid/Train/Covid-19-P/Positive_ (48).jpg  \n",
            "  inflating: Mycovid/Train/Covid-19-P/Positive_ (48).png  \n",
            "  inflating: Mycovid/Train/Covid-19-P/Positive_ (49).jpeg  \n",
            "  inflating: Mycovid/Train/Covid-19-P/Positive_ (49).jpg  \n",
            "  inflating: Mycovid/Train/Covid-19-P/Positive_ (49).png  \n",
            "  inflating: Mycovid/Train/Covid-19-P/Positive_ (5).jpeg  \n",
            "  inflating: Mycovid/Train/Covid-19-P/Positive_ (5).jpg  \n",
            "  inflating: Mycovid/Train/Covid-19-P/Positive_ (5).png  \n",
            "  inflating: Mycovid/Train/Covid-19-P/Positive_ (50).jpeg  \n",
            "  inflating: Mycovid/Train/Covid-19-P/Positive_ (50).jpg  \n",
            "  inflating: Mycovid/Train/Covid-19-P/Positive_ (50).png  \n",
            "  inflating: Mycovid/Train/Covid-19-P/Positive_ (51).jpeg  \n",
            "  inflating: Mycovid/Train/Covid-19-P/Positive_ (51).jpg  \n",
            "  inflating: Mycovid/Train/Covid-19-P/Positive_ (51).png  \n",
            "  inflating: Mycovid/Train/Covid-19-P/Positive_ (52).jpeg  \n",
            "  inflating: Mycovid/Train/Covid-19-P/Positive_ (52).jpg  \n",
            "  inflating: Mycovid/Train/Covid-19-P/Positive_ (52).png  \n",
            "  inflating: Mycovid/Train/Covid-19-P/Positive_ (53).jpeg  \n",
            "  inflating: Mycovid/Train/Covid-19-P/Positive_ (53).jpg  \n",
            "  inflating: Mycovid/Train/Covid-19-P/Positive_ (53).png  \n",
            "  inflating: Mycovid/Train/Covid-19-P/Positive_ (54).jpeg  \n",
            "  inflating: Mycovid/Train/Covid-19-P/Positive_ (54).jpg  \n",
            "  inflating: Mycovid/Train/Covid-19-P/Positive_ (54).png  \n",
            "  inflating: Mycovid/Train/Covid-19-P/Positive_ (55).jpeg  \n",
            "  inflating: Mycovid/Train/Covid-19-P/Positive_ (55).jpg  \n",
            "  inflating: Mycovid/Train/Covid-19-P/Positive_ (55).png  \n",
            "  inflating: Mycovid/Train/Covid-19-P/Positive_ (56).jpeg  \n",
            "  inflating: Mycovid/Train/Covid-19-P/Positive_ (56).jpg  \n",
            "  inflating: Mycovid/Train/Covid-19-P/Positive_ (56).png  \n",
            "  inflating: Mycovid/Train/Covid-19-P/Positive_ (57).jpeg  \n",
            "  inflating: Mycovid/Train/Covid-19-P/Positive_ (57).jpg  \n",
            "  inflating: Mycovid/Train/Covid-19-P/Positive_ (57).png  \n",
            "  inflating: Mycovid/Train/Covid-19-P/Positive_ (58).jpeg  \n",
            "  inflating: Mycovid/Train/Covid-19-P/Positive_ (58).jpg  \n",
            "  inflating: Mycovid/Train/Covid-19-P/Positive_ (58).png  \n",
            "  inflating: Mycovid/Train/Covid-19-P/Positive_ (59).jpeg  \n",
            "  inflating: Mycovid/Train/Covid-19-P/Positive_ (59).jpg  \n",
            "  inflating: Mycovid/Train/Covid-19-P/Positive_ (59).png  \n",
            "  inflating: Mycovid/Train/Covid-19-P/Positive_ (6).jpeg  \n",
            "  inflating: Mycovid/Train/Covid-19-P/Positive_ (6).jpg  \n",
            "  inflating: Mycovid/Train/Covid-19-P/Positive_ (6).png  \n",
            "  inflating: Mycovid/Train/Covid-19-P/Positive_ (60).jpeg  \n",
            "  inflating: Mycovid/Train/Covid-19-P/Positive_ (60).jpg  \n",
            "  inflating: Mycovid/Train/Covid-19-P/Positive_ (60).png  \n",
            "  inflating: Mycovid/Train/Covid-19-P/Positive_ (61).jpeg  \n",
            "  inflating: Mycovid/Train/Covid-19-P/Positive_ (61).jpg  \n",
            "  inflating: Mycovid/Train/Covid-19-P/Positive_ (61).png  \n",
            "  inflating: Mycovid/Train/Covid-19-P/Positive_ (62).jpeg  \n",
            "  inflating: Mycovid/Train/Covid-19-P/Positive_ (62).jpg  \n",
            "  inflating: Mycovid/Train/Covid-19-P/Positive_ (62).png  \n",
            "  inflating: Mycovid/Train/Covid-19-P/Positive_ (63).jpeg  \n",
            "  inflating: Mycovid/Train/Covid-19-P/Positive_ (63).jpg  \n",
            "  inflating: Mycovid/Train/Covid-19-P/Positive_ (63).png  \n",
            "  inflating: Mycovid/Train/Covid-19-P/Positive_ (64).jpeg  \n",
            "  inflating: Mycovid/Train/Covid-19-P/Positive_ (64).jpg  \n",
            "  inflating: Mycovid/Train/Covid-19-P/Positive_ (64).png  \n",
            "  inflating: Mycovid/Train/Covid-19-P/Positive_ (65).jpeg  \n",
            "  inflating: Mycovid/Train/Covid-19-P/Positive_ (65).jpg  \n",
            "  inflating: Mycovid/Train/Covid-19-P/Positive_ (65).PNG  \n",
            "  inflating: Mycovid/Train/Covid-19-P/Positive_ (66).jpeg  \n",
            "  inflating: Mycovid/Train/Covid-19-P/Positive_ (66).jpg  \n",
            "  inflating: Mycovid/Train/Covid-19-P/Positive_ (66).PNG  \n",
            "  inflating: Mycovid/Train/Covid-19-P/Positive_ (67).jpeg  \n",
            "  inflating: Mycovid/Train/Covid-19-P/Positive_ (67).jpg  \n",
            "  inflating: Mycovid/Train/Covid-19-P/Positive_ (67).png  \n",
            "  inflating: Mycovid/Train/Covid-19-P/Positive_ (68).jpeg  \n",
            "  inflating: Mycovid/Train/Covid-19-P/Positive_ (68).jpg  \n",
            "  inflating: Mycovid/Train/Covid-19-P/Positive_ (68).png  \n",
            "  inflating: Mycovid/Train/Covid-19-P/Positive_ (69).jpeg  \n",
            "  inflating: Mycovid/Train/Covid-19-P/Positive_ (69).jpg  \n",
            "  inflating: Mycovid/Train/Covid-19-P/Positive_ (69).png  \n",
            "  inflating: Mycovid/Train/Covid-19-P/Positive_ (7).jpeg  \n",
            "  inflating: Mycovid/Train/Covid-19-P/Positive_ (7).jpg  \n",
            "  inflating: Mycovid/Train/Covid-19-P/Positive_ (7).png  \n",
            "  inflating: Mycovid/Train/Covid-19-P/Positive_ (70).jpeg  \n",
            "  inflating: Mycovid/Train/Covid-19-P/Positive_ (70).jpg  \n",
            "  inflating: Mycovid/Train/Covid-19-P/Positive_ (70).png  \n",
            "  inflating: Mycovid/Train/Covid-19-P/Positive_ (71).jpeg  \n",
            "  inflating: Mycovid/Train/Covid-19-P/Positive_ (71).jpg  \n",
            "  inflating: Mycovid/Train/Covid-19-P/Positive_ (71).png  \n",
            "  inflating: Mycovid/Train/Covid-19-P/Positive_ (72).jpeg  \n",
            "  inflating: Mycovid/Train/Covid-19-P/Positive_ (72).jpg  \n",
            "  inflating: Mycovid/Train/Covid-19-P/Positive_ (72).png  \n",
            "  inflating: Mycovid/Train/Covid-19-P/Positive_ (73).jpeg  \n",
            "  inflating: Mycovid/Train/Covid-19-P/Positive_ (73).jpg  \n",
            "  inflating: Mycovid/Train/Covid-19-P/Positive_ (73).png  \n",
            "  inflating: Mycovid/Train/Covid-19-P/Positive_ (74).jpeg  \n",
            "  inflating: Mycovid/Train/Covid-19-P/Positive_ (74).jpg  \n",
            "  inflating: Mycovid/Train/Covid-19-P/Positive_ (74).png  \n",
            "  inflating: Mycovid/Train/Covid-19-P/Positive_ (75).jpeg  \n",
            "  inflating: Mycovid/Train/Covid-19-P/Positive_ (75).jpg  \n",
            "  inflating: Mycovid/Train/Covid-19-P/Positive_ (75).png  \n",
            "  inflating: Mycovid/Train/Covid-19-P/Positive_ (76).jpeg  \n",
            "  inflating: Mycovid/Train/Covid-19-P/Positive_ (76).jpg  \n",
            "  inflating: Mycovid/Train/Covid-19-P/Positive_ (76).png  \n",
            "  inflating: Mycovid/Train/Covid-19-P/Positive_ (77).jpeg  \n",
            "  inflating: Mycovid/Train/Covid-19-P/Positive_ (77).jpg  \n",
            "  inflating: Mycovid/Train/Covid-19-P/Positive_ (77).png  \n",
            "  inflating: Mycovid/Train/Covid-19-P/Positive_ (78).jpeg  \n",
            "  inflating: Mycovid/Train/Covid-19-P/Positive_ (78).jpg  \n",
            "  inflating: Mycovid/Train/Covid-19-P/Positive_ (78).png  \n",
            "  inflating: Mycovid/Train/Covid-19-P/Positive_ (79).jpeg  \n",
            "  inflating: Mycovid/Train/Covid-19-P/Positive_ (79).jpg  \n",
            "  inflating: Mycovid/Train/Covid-19-P/Positive_ (79).png  \n",
            "  inflating: Mycovid/Train/Covid-19-P/Positive_ (8).jpeg  \n",
            "  inflating: Mycovid/Train/Covid-19-P/Positive_ (8).jpg  \n",
            "  inflating: Mycovid/Train/Covid-19-P/Positive_ (8).png  \n",
            "  inflating: Mycovid/Train/Covid-19-P/Positive_ (80).jpeg  \n",
            "  inflating: Mycovid/Train/Covid-19-P/Positive_ (80).jpg  \n",
            "  inflating: Mycovid/Train/Covid-19-P/Positive_ (80).PNG  \n",
            "  inflating: Mycovid/Train/Covid-19-P/Positive_ (81).jpeg  \n",
            "  inflating: Mycovid/Train/Covid-19-P/Positive_ (81).jpg  \n",
            "  inflating: Mycovid/Train/Covid-19-P/Positive_ (81).png  \n",
            "  inflating: Mycovid/Train/Covid-19-P/Positive_ (82).jpeg  \n",
            "  inflating: Mycovid/Train/Covid-19-P/Positive_ (82).jpg  \n",
            "  inflating: Mycovid/Train/Covid-19-P/Positive_ (82).png  \n",
            "  inflating: Mycovid/Train/Covid-19-P/Positive_ (83).jpeg  \n",
            "  inflating: Mycovid/Train/Covid-19-P/Positive_ (83).jpg  \n",
            "  inflating: Mycovid/Train/Covid-19-P/Positive_ (83).png  \n",
            "  inflating: Mycovid/Train/Covid-19-P/Positive_ (84).jpeg  \n",
            "  inflating: Mycovid/Train/Covid-19-P/Positive_ (84).jpg  \n",
            "  inflating: Mycovid/Train/Covid-19-P/Positive_ (84).png  \n",
            "  inflating: Mycovid/Train/Covid-19-P/Positive_ (85).jpeg  \n",
            "  inflating: Mycovid/Train/Covid-19-P/Positive_ (85).jpg  \n",
            "  inflating: Mycovid/Train/Covid-19-P/Positive_ (85).png  \n",
            "  inflating: Mycovid/Train/Covid-19-P/Positive_ (86).jpeg  \n",
            "  inflating: Mycovid/Train/Covid-19-P/Positive_ (86).jpg  \n",
            "  inflating: Mycovid/Train/Covid-19-P/Positive_ (86).png  \n",
            "  inflating: Mycovid/Train/Covid-19-P/Positive_ (87).jpeg  \n",
            "  inflating: Mycovid/Train/Covid-19-P/Positive_ (87).jpg  \n",
            "  inflating: Mycovid/Train/Covid-19-P/Positive_ (87).png  \n",
            "  inflating: Mycovid/Train/Covid-19-P/Positive_ (88).jpeg  \n",
            "  inflating: Mycovid/Train/Covid-19-P/Positive_ (88).jpg  \n",
            "  inflating: Mycovid/Train/Covid-19-P/Positive_ (88).png  \n",
            "  inflating: Mycovid/Train/Covid-19-P/Positive_ (89).jpeg  \n",
            "  inflating: Mycovid/Train/Covid-19-P/Positive_ (89).jpg  \n",
            "  inflating: Mycovid/Train/Covid-19-P/Positive_ (89).png  \n",
            "  inflating: Mycovid/Train/Covid-19-P/Positive_ (9).jpeg  \n",
            "  inflating: Mycovid/Train/Covid-19-P/Positive_ (9).jpg  \n",
            "  inflating: Mycovid/Train/Covid-19-P/Positive_ (9).png  \n",
            "  inflating: Mycovid/Train/Covid-19-P/Positive_ (90).jpeg  \n",
            "  inflating: Mycovid/Train/Covid-19-P/Positive_ (90).jpg  \n",
            "  inflating: Mycovid/Train/Covid-19-P/Positive_ (90).png  \n",
            "  inflating: Mycovid/Train/Covid-19-P/Positive_ (91).jpeg  \n",
            "  inflating: Mycovid/Train/Covid-19-P/Positive_ (91).jpg  \n",
            "  inflating: Mycovid/Train/Covid-19-P/Positive_ (91).png  \n",
            "  inflating: Mycovid/Train/Covid-19-P/Positive_ (92).jpeg  \n",
            "  inflating: Mycovid/Train/Covid-19-P/Positive_ (92).jpg  \n",
            "  inflating: Mycovid/Train/Covid-19-P/Positive_ (92).png  \n",
            "  inflating: Mycovid/Train/Covid-19-P/Positive_ (93).jpeg  \n",
            "  inflating: Mycovid/Train/Covid-19-P/Positive_ (93).jpg  \n",
            "  inflating: Mycovid/Train/Covid-19-P/Positive_ (93).png  \n",
            "  inflating: Mycovid/Train/Covid-19-P/Positive_ (94).jpeg  \n",
            "  inflating: Mycovid/Train/Covid-19-P/Positive_ (94).jpg  \n",
            "  inflating: Mycovid/Train/Covid-19-P/Positive_ (94).png  \n",
            "  inflating: Mycovid/Train/Covid-19-P/Positive_ (95).jpeg  \n",
            "  inflating: Mycovid/Train/Covid-19-P/Positive_ (95).jpg  \n",
            "  inflating: Mycovid/Train/Covid-19-P/Positive_ (95).png  \n",
            "  inflating: Mycovid/Train/Covid-19-P/Positive_ (96).jpeg  \n",
            "  inflating: Mycovid/Train/Covid-19-P/Positive_ (96).jpg  \n",
            "  inflating: Mycovid/Train/Covid-19-P/Positive_ (96).png  \n",
            "  inflating: Mycovid/Train/Covid-19-P/Positive_ (97).jpeg  \n",
            "  inflating: Mycovid/Train/Covid-19-P/Positive_ (97).jpg  \n",
            "  inflating: Mycovid/Train/Covid-19-P/Positive_ (97).png  \n",
            "  inflating: Mycovid/Train/Covid-19-P/Positive_ (98).jpeg  \n",
            "  inflating: Mycovid/Train/Covid-19-P/Positive_ (98).jpg  \n",
            "  inflating: Mycovid/Train/Covid-19-P/Positive_ (98).png  \n",
            "  inflating: Mycovid/Train/Covid-19-P/Positive_ (99).jpeg  \n",
            "  inflating: Mycovid/Train/Covid-19-P/Positive_ (99).jpg  \n",
            "  inflating: Mycovid/Train/Covid-19-P/Positive_ (99).png  \n",
            "   creating: Mycovid/valid/\n",
            "   creating: Mycovid/valid/Covid-19-N/\n",
            "  inflating: Mycovid/valid/Covid-19-N/aug_1.jpg  \n",
            "  inflating: Mycovid/valid/Covid-19-N/aug_10.jpg  \n",
            "  inflating: Mycovid/valid/Covid-19-N/aug_11.jpg  \n",
            "  inflating: Mycovid/valid/Covid-19-N/aug_12.jpg  \n",
            "  inflating: Mycovid/valid/Covid-19-N/aug_13.jpg  \n",
            "  inflating: Mycovid/valid/Covid-19-N/aug_14.jpg  \n",
            "  inflating: Mycovid/valid/Covid-19-N/aug_15.jpg  \n",
            "  inflating: Mycovid/valid/Covid-19-N/aug_16.jpg  \n",
            "  inflating: Mycovid/valid/Covid-19-N/aug_17.jpg  \n",
            "  inflating: Mycovid/valid/Covid-19-N/aug_18.jpg  \n",
            "  inflating: Mycovid/valid/Covid-19-N/aug_19.jpg  \n",
            "  inflating: Mycovid/valid/Covid-19-N/aug_2.jpg  \n",
            "  inflating: Mycovid/valid/Covid-19-N/aug_20.jpg  \n",
            "  inflating: Mycovid/valid/Covid-19-N/aug_21.jpg  \n",
            "  inflating: Mycovid/valid/Covid-19-N/aug_22.jpg  \n",
            "  inflating: Mycovid/valid/Covid-19-N/aug_23.jpg  \n",
            "  inflating: Mycovid/valid/Covid-19-N/aug_24.jpg  \n",
            "  inflating: Mycovid/valid/Covid-19-N/aug_25.jpg  \n",
            "  inflating: Mycovid/valid/Covid-19-N/aug_26.jpg  \n",
            "  inflating: Mycovid/valid/Covid-19-N/aug_27.jpg  \n",
            "  inflating: Mycovid/valid/Covid-19-N/aug_28.jpg  \n",
            "  inflating: Mycovid/valid/Covid-19-N/aug_29.jpg  \n",
            "  inflating: Mycovid/valid/Covid-19-N/aug_3.jpg  \n",
            "  inflating: Mycovid/valid/Covid-19-N/aug_30.jpg  \n",
            "  inflating: Mycovid/valid/Covid-19-N/aug_31.jpg  \n",
            "  inflating: Mycovid/valid/Covid-19-N/aug_32.jpg  \n",
            "  inflating: Mycovid/valid/Covid-19-N/aug_33.jpg  \n",
            "  inflating: Mycovid/valid/Covid-19-N/aug_34.jpg  \n",
            "  inflating: Mycovid/valid/Covid-19-N/aug_35.jpg  \n",
            "  inflating: Mycovid/valid/Covid-19-N/aug_36.jpg  \n",
            "  inflating: Mycovid/valid/Covid-19-N/aug_37.jpg  \n",
            "  inflating: Mycovid/valid/Covid-19-N/aug_38.jpg  \n",
            "  inflating: Mycovid/valid/Covid-19-N/aug_39.jpg  \n",
            "  inflating: Mycovid/valid/Covid-19-N/aug_4.jpg  \n",
            "  inflating: Mycovid/valid/Covid-19-N/aug_40.jpg  \n",
            "  inflating: Mycovid/valid/Covid-19-N/aug_41.jpg  \n",
            "  inflating: Mycovid/valid/Covid-19-N/aug_42.jpg  \n",
            "  inflating: Mycovid/valid/Covid-19-N/aug_43.jpg  \n",
            "  inflating: Mycovid/valid/Covid-19-N/aug_44.jpg  \n",
            "  inflating: Mycovid/valid/Covid-19-N/aug_45.jpg  \n",
            "  inflating: Mycovid/valid/Covid-19-N/aug_5.jpg  \n",
            "  inflating: Mycovid/valid/Covid-19-N/aug_6.jpg  \n",
            "  inflating: Mycovid/valid/Covid-19-N/aug_7.jpg  \n",
            "  inflating: Mycovid/valid/Covid-19-N/aug_8.jpg  \n",
            "  inflating: Mycovid/valid/Covid-19-N/aug_9.jpg  \n",
            "   creating: Mycovid/valid/Covid-19-P/\n",
            "  inflating: Mycovid/valid/Covid-19-P/Positive_ (1).jpeg  \n",
            "  inflating: Mycovid/valid/Covid-19-P/Positive_ (1).jpg  \n",
            "  inflating: Mycovid/valid/Covid-19-P/Positive_ (1).png  \n",
            "  inflating: Mycovid/valid/Covid-19-P/Positive_ (10).jpeg  \n",
            "  inflating: Mycovid/valid/Covid-19-P/Positive_ (10).jpg  \n",
            "  inflating: Mycovid/valid/Covid-19-P/Positive_ (10).png  \n",
            "  inflating: Mycovid/valid/Covid-19-P/Positive_ (11).jpeg  \n",
            "  inflating: Mycovid/valid/Covid-19-P/Positive_ (11).jpg  \n",
            "  inflating: Mycovid/valid/Covid-19-P/Positive_ (11).png  \n",
            "  inflating: Mycovid/valid/Covid-19-P/Positive_ (12).jpeg  \n",
            "  inflating: Mycovid/valid/Covid-19-P/Positive_ (12).jpg  \n",
            "  inflating: Mycovid/valid/Covid-19-P/Positive_ (12).png  \n",
            "  inflating: Mycovid/valid/Covid-19-P/Positive_ (13).jpeg  \n",
            "  inflating: Mycovid/valid/Covid-19-P/Positive_ (13).jpg  \n",
            "  inflating: Mycovid/valid/Covid-19-P/Positive_ (13).png  \n",
            "  inflating: Mycovid/valid/Covid-19-P/Positive_ (14).jpeg  \n",
            "  inflating: Mycovid/valid/Covid-19-P/Positive_ (14).jpg  \n",
            "  inflating: Mycovid/valid/Covid-19-P/Positive_ (14).png  \n",
            "  inflating: Mycovid/valid/Covid-19-P/Positive_ (15).jpeg  \n",
            "  inflating: Mycovid/valid/Covid-19-P/Positive_ (15).jpg  \n",
            "  inflating: Mycovid/valid/Covid-19-P/Positive_ (15).png  \n",
            "  inflating: Mycovid/valid/Covid-19-P/Positive_ (2).jpeg  \n",
            "  inflating: Mycovid/valid/Covid-19-P/Positive_ (2).jpg  \n",
            "  inflating: Mycovid/valid/Covid-19-P/Positive_ (2).png  \n",
            "  inflating: Mycovid/valid/Covid-19-P/Positive_ (3).jpeg  \n",
            "  inflating: Mycovid/valid/Covid-19-P/Positive_ (3).jpg  \n",
            "  inflating: Mycovid/valid/Covid-19-P/Positive_ (3).png  \n",
            "  inflating: Mycovid/valid/Covid-19-P/Positive_ (4).jpeg  \n",
            "  inflating: Mycovid/valid/Covid-19-P/Positive_ (4).jpg  \n",
            "  inflating: Mycovid/valid/Covid-19-P/Positive_ (4).png  \n",
            "  inflating: Mycovid/valid/Covid-19-P/Positive_ (5).jpeg  \n",
            "  inflating: Mycovid/valid/Covid-19-P/Positive_ (5).jpg  \n",
            "  inflating: Mycovid/valid/Covid-19-P/Positive_ (5).png  \n",
            "  inflating: Mycovid/valid/Covid-19-P/Positive_ (6).jpeg  \n",
            "  inflating: Mycovid/valid/Covid-19-P/Positive_ (6).jpg  \n",
            "  inflating: Mycovid/valid/Covid-19-P/Positive_ (6).png  \n",
            "  inflating: Mycovid/valid/Covid-19-P/Positive_ (7).jpeg  \n",
            "  inflating: Mycovid/valid/Covid-19-P/Positive_ (7).jpg  \n",
            "  inflating: Mycovid/valid/Covid-19-P/Positive_ (7).png  \n",
            "  inflating: Mycovid/valid/Covid-19-P/Positive_ (8).jpeg  \n",
            "  inflating: Mycovid/valid/Covid-19-P/Positive_ (8).jpg  \n",
            "  inflating: Mycovid/valid/Covid-19-P/Positive_ (8).png  \n",
            "  inflating: Mycovid/valid/Covid-19-P/Positive_ (9).jpeg  \n",
            "  inflating: Mycovid/valid/Covid-19-P/Positive_ (9).jpg  \n",
            "  inflating: Mycovid/valid/Covid-19-P/Positive_ (9).png  \n"
          ]
        }
      ],
      "source": [
        "!unzip '/content/drive/MyDrive/Mycovid.zip'"
      ]
    },
    {
      "cell_type": "code",
      "execution_count": null,
      "metadata": {
        "colab": {
          "base_uri": "https://localhost:8080/"
        },
        "id": "PTxEUlEl5pC8",
        "outputId": "9653d7da-79f6-4243-b9bc-457cef369b58"
      },
      "outputs": [
        {
          "name": "stdout",
          "output_type": "stream",
          "text": [
            "/content/Mycovid\n"
          ]
        }
      ],
      "source": [
        "%cd Mycovid/"
      ]
    },
    {
      "cell_type": "code",
      "execution_count": null,
      "metadata": {
        "id": "YJTureeiqEd-"
      },
      "outputs": [],
      "source": [
        "import numpy as np"
      ]
    },
    {
      "cell_type": "code",
      "execution_count": null,
      "metadata": {
        "colab": {
          "background_save": true,
          "base_uri": "https://localhost:8080/"
        },
        "id": "mydlwLLKDFj0",
        "outputId": "e921d7de-004f-4e41-ec77-17a6541e8846"
      },
      "outputs": [
        {
          "name": "stdout",
          "output_type": "stream",
          "text": [
            "Collecting scikit-learn==0.20.2\n",
            "\u001b[?25l  Downloading https://files.pythonhosted.org/packages/90/de/6c4c572d39db91104a31e5b1559df4712f241cdf3f6206f49954adaa942c/scikit_learn-0.20.2-cp37-cp37m-manylinux1_x86_64.whl (5.4MB)\n",
            "\u001b[K     |████████████████████████████████| 5.4MB 17.8MB/s \n",
            "\u001b[?25hRequirement already satisfied: scipy>=0.13.3 in /usr/local/lib/python3.7/dist-packages (from scikit-learn==0.20.2) (1.4.1)\n",
            "Requirement already satisfied: numpy>=1.8.2 in /usr/local/lib/python3.7/dist-packages (from scikit-learn==0.20.2) (1.19.5)\n",
            "Installing collected packages: scikit-learn\n",
            "  Found existing installation: scikit-learn 0.22.2.post1\n",
            "    Uninstalling scikit-learn-0.22.2.post1:\n",
            "      Successfully uninstalled scikit-learn-0.22.2.post1\n",
            "Successfully installed scikit-learn-0.20.2\n",
            "Collecting tensorflow==2.2.0\n",
            "\u001b[?25l  Downloading https://files.pythonhosted.org/packages/4c/1a/0d79814736cfecc825ab8094b39648cc9c46af7af1bae839928acb73b4dd/tensorflow-2.2.0-cp37-cp37m-manylinux2010_x86_64.whl (516.2MB)\n",
            "\u001b[K     |████████████████████████████████| 516.2MB 32kB/s \n",
            "\u001b[?25hRequirement already satisfied: gast==0.3.3 in /usr/local/lib/python3.7/dist-packages (from tensorflow==2.2.0) (0.3.3)\n",
            "Requirement already satisfied: astunparse==1.6.3 in /usr/local/lib/python3.7/dist-packages (from tensorflow==2.2.0) (1.6.3)\n",
            "Requirement already satisfied: wrapt>=1.11.1 in /usr/local/lib/python3.7/dist-packages (from tensorflow==2.2.0) (1.12.1)\n",
            "Requirement already satisfied: protobuf>=3.8.0 in /usr/local/lib/python3.7/dist-packages (from tensorflow==2.2.0) (3.12.4)\n",
            "Collecting tensorflow-estimator<2.3.0,>=2.2.0\n",
            "\u001b[?25l  Downloading https://files.pythonhosted.org/packages/a4/f5/926ae53d6a226ec0fda5208e0e581cffed895ccc89e36ba76a8e60895b78/tensorflow_estimator-2.2.0-py2.py3-none-any.whl (454kB)\n",
            "\u001b[K     |████████████████████████████████| 460kB 44.8MB/s \n",
            "\u001b[?25hRequirement already satisfied: wheel>=0.26; python_version >= \"3\" in /usr/local/lib/python3.7/dist-packages (from tensorflow==2.2.0) (0.36.2)\n",
            "Requirement already satisfied: keras-preprocessing>=1.1.0 in /usr/local/lib/python3.7/dist-packages (from tensorflow==2.2.0) (1.1.2)\n",
            "Requirement already satisfied: numpy<2.0,>=1.16.0 in /usr/local/lib/python3.7/dist-packages (from tensorflow==2.2.0) (1.19.5)\n",
            "Requirement already satisfied: termcolor>=1.1.0 in /usr/local/lib/python3.7/dist-packages (from tensorflow==2.2.0) (1.1.0)\n",
            "Requirement already satisfied: scipy==1.4.1; python_version >= \"3\" in /usr/local/lib/python3.7/dist-packages (from tensorflow==2.2.0) (1.4.1)\n",
            "Requirement already satisfied: absl-py>=0.7.0 in /usr/local/lib/python3.7/dist-packages (from tensorflow==2.2.0) (0.12.0)\n",
            "Requirement already satisfied: grpcio>=1.8.6 in /usr/local/lib/python3.7/dist-packages (from tensorflow==2.2.0) (1.32.0)\n",
            "Requirement already satisfied: h5py<2.11.0,>=2.10.0 in /usr/local/lib/python3.7/dist-packages (from tensorflow==2.2.0) (2.10.0)\n",
            "Requirement already satisfied: google-pasta>=0.1.8 in /usr/local/lib/python3.7/dist-packages (from tensorflow==2.2.0) (0.2.0)\n",
            "Collecting tensorboard<2.3.0,>=2.2.0\n",
            "\u001b[?25l  Downloading https://files.pythonhosted.org/packages/1d/74/0a6fcb206dcc72a6da9a62dd81784bfdbff5fedb099982861dc2219014fb/tensorboard-2.2.2-py3-none-any.whl (3.0MB)\n",
            "\u001b[K     |████████████████████████████████| 3.0MB 27.9MB/s \n",
            "\u001b[?25hRequirement already satisfied: opt-einsum>=2.3.2 in /usr/local/lib/python3.7/dist-packages (from tensorflow==2.2.0) (3.3.0)\n",
            "Requirement already satisfied: six>=1.12.0 in /usr/local/lib/python3.7/dist-packages (from tensorflow==2.2.0) (1.15.0)\n",
            "Requirement already satisfied: setuptools in /usr/local/lib/python3.7/dist-packages (from protobuf>=3.8.0->tensorflow==2.2.0) (56.1.0)\n",
            "Requirement already satisfied: markdown>=2.6.8 in /usr/local/lib/python3.7/dist-packages (from tensorboard<2.3.0,>=2.2.0->tensorflow==2.2.0) (3.3.4)\n",
            "Requirement already satisfied: google-auth-oauthlib<0.5,>=0.4.1 in /usr/local/lib/python3.7/dist-packages (from tensorboard<2.3.0,>=2.2.0->tensorflow==2.2.0) (0.4.4)\n",
            "Requirement already satisfied: tensorboard-plugin-wit>=1.6.0 in /usr/local/lib/python3.7/dist-packages (from tensorboard<2.3.0,>=2.2.0->tensorflow==2.2.0) (1.8.0)\n",
            "Requirement already satisfied: requests<3,>=2.21.0 in /usr/local/lib/python3.7/dist-packages (from tensorboard<2.3.0,>=2.2.0->tensorflow==2.2.0) (2.23.0)\n",
            "Requirement already satisfied: werkzeug>=0.11.15 in /usr/local/lib/python3.7/dist-packages (from tensorboard<2.3.0,>=2.2.0->tensorflow==2.2.0) (2.0.0)\n",
            "Requirement already satisfied: google-auth<2,>=1.6.3 in /usr/local/lib/python3.7/dist-packages (from tensorboard<2.3.0,>=2.2.0->tensorflow==2.2.0) (1.30.0)\n",
            "Requirement already satisfied: importlib-metadata; python_version < \"3.8\" in /usr/local/lib/python3.7/dist-packages (from markdown>=2.6.8->tensorboard<2.3.0,>=2.2.0->tensorflow==2.2.0) (4.0.1)\n",
            "Requirement already satisfied: requests-oauthlib>=0.7.0 in /usr/local/lib/python3.7/dist-packages (from google-auth-oauthlib<0.5,>=0.4.1->tensorboard<2.3.0,>=2.2.0->tensorflow==2.2.0) (1.3.0)\n",
            "Requirement already satisfied: urllib3!=1.25.0,!=1.25.1,<1.26,>=1.21.1 in /usr/local/lib/python3.7/dist-packages (from requests<3,>=2.21.0->tensorboard<2.3.0,>=2.2.0->tensorflow==2.2.0) (1.24.3)\n",
            "Requirement already satisfied: chardet<4,>=3.0.2 in /usr/local/lib/python3.7/dist-packages (from requests<3,>=2.21.0->tensorboard<2.3.0,>=2.2.0->tensorflow==2.2.0) (3.0.4)\n",
            "Requirement already satisfied: idna<3,>=2.5 in /usr/local/lib/python3.7/dist-packages (from requests<3,>=2.21.0->tensorboard<2.3.0,>=2.2.0->tensorflow==2.2.0) (2.10)\n",
            "Requirement already satisfied: certifi>=2017.4.17 in /usr/local/lib/python3.7/dist-packages (from requests<3,>=2.21.0->tensorboard<2.3.0,>=2.2.0->tensorflow==2.2.0) (2020.12.5)\n",
            "Requirement already satisfied: cachetools<5.0,>=2.0.0 in /usr/local/lib/python3.7/dist-packages (from google-auth<2,>=1.6.3->tensorboard<2.3.0,>=2.2.0->tensorflow==2.2.0) (4.2.2)\n",
            "Requirement already satisfied: pyasn1-modules>=0.2.1 in /usr/local/lib/python3.7/dist-packages (from google-auth<2,>=1.6.3->tensorboard<2.3.0,>=2.2.0->tensorflow==2.2.0) (0.2.8)\n",
            "Requirement already satisfied: rsa<5,>=3.1.4; python_version >= \"3.6\" in /usr/local/lib/python3.7/dist-packages (from google-auth<2,>=1.6.3->tensorboard<2.3.0,>=2.2.0->tensorflow==2.2.0) (4.7.2)\n",
            "Requirement already satisfied: typing-extensions>=3.6.4; python_version < \"3.8\" in /usr/local/lib/python3.7/dist-packages (from importlib-metadata; python_version < \"3.8\"->markdown>=2.6.8->tensorboard<2.3.0,>=2.2.0->tensorflow==2.2.0) (3.7.4.3)\n",
            "Requirement already satisfied: zipp>=0.5 in /usr/local/lib/python3.7/dist-packages (from importlib-metadata; python_version < \"3.8\"->markdown>=2.6.8->tensorboard<2.3.0,>=2.2.0->tensorflow==2.2.0) (3.4.1)\n",
            "Requirement already satisfied: oauthlib>=3.0.0 in /usr/local/lib/python3.7/dist-packages (from requests-oauthlib>=0.7.0->google-auth-oauthlib<0.5,>=0.4.1->tensorboard<2.3.0,>=2.2.0->tensorflow==2.2.0) (3.1.0)\n",
            "Requirement already satisfied: pyasn1<0.5.0,>=0.4.6 in /usr/local/lib/python3.7/dist-packages (from pyasn1-modules>=0.2.1->google-auth<2,>=1.6.3->tensorboard<2.3.0,>=2.2.0->tensorflow==2.2.0) (0.4.8)\n",
            "Installing collected packages: tensorflow-estimator, tensorboard, tensorflow\n",
            "  Found existing installation: tensorflow-estimator 2.4.0\n",
            "    Uninstalling tensorflow-estimator-2.4.0:\n",
            "      Successfully uninstalled tensorflow-estimator-2.4.0\n",
            "  Found existing installation: tensorboard 2.4.1\n",
            "    Uninstalling tensorboard-2.4.1:\n",
            "      Successfully uninstalled tensorboard-2.4.1\n",
            "  Found existing installation: tensorflow 2.4.1\n",
            "    Uninstalling tensorflow-2.4.1:\n",
            "      Successfully uninstalled tensorflow-2.4.1\n",
            "Successfully installed tensorboard-2.2.2 tensorflow-2.2.0 tensorflow-estimator-2.2.0\n",
            "Collecting matplotlib==3.0.2\n",
            "\u001b[?25l  Downloading https://files.pythonhosted.org/packages/e7/f9/5377596cb1c035c102396f5934237a046f80da69974026f90bee5db8b7ba/matplotlib-3.0.2-cp37-cp37m-manylinux1_x86_64.whl (12.9MB)\n",
            "\u001b[K     |████████████████████████████████| 12.9MB 29.6MB/s \n",
            "\u001b[?25hRequirement already satisfied: pyparsing!=2.0.4,!=2.1.2,!=2.1.6,>=2.0.1 in /usr/local/lib/python3.7/dist-packages (from matplotlib==3.0.2) (2.4.7)\n",
            "Requirement already satisfied: kiwisolver>=1.0.1 in /usr/local/lib/python3.7/dist-packages (from matplotlib==3.0.2) (1.3.1)\n",
            "Requirement already satisfied: numpy>=1.10.0 in /usr/local/lib/python3.7/dist-packages (from matplotlib==3.0.2) (1.19.5)\n",
            "Requirement already satisfied: python-dateutil>=2.1 in /usr/local/lib/python3.7/dist-packages (from matplotlib==3.0.2) (2.8.1)\n",
            "Requirement already satisfied: cycler>=0.10 in /usr/local/lib/python3.7/dist-packages (from matplotlib==3.0.2) (0.10.0)\n",
            "Requirement already satisfied: six>=1.5 in /usr/local/lib/python3.7/dist-packages (from python-dateutil>=2.1->matplotlib==3.0.2) (1.15.0)\n",
            "\u001b[31mERROR: plotnine 0.6.0 has requirement matplotlib>=3.1.1, but you'll have matplotlib 3.0.2 which is incompatible.\u001b[0m\n",
            "\u001b[31mERROR: mizani 0.6.0 has requirement matplotlib>=3.1.1, but you'll have matplotlib 3.0.2 which is incompatible.\u001b[0m\n",
            "\u001b[31mERROR: albumentations 0.1.12 has requirement imgaug<0.2.7,>=0.2.5, but you'll have imgaug 0.2.9 which is incompatible.\u001b[0m\n",
            "Installing collected packages: matplotlib\n",
            "  Found existing installation: matplotlib 3.2.2\n",
            "    Uninstalling matplotlib-3.2.2:\n",
            "      Successfully uninstalled matplotlib-3.2.2\n",
            "Successfully installed matplotlib-3.0.2\n"
          ]
        },
        {
          "data": {
            "application/vnd.colab-display-data+json": {
              "pip_warning": {
                "packages": [
                  "matplotlib",
                  "mpl_toolkits"
                ]
              }
            }
          },
          "metadata": {},
          "output_type": "display_data"
        },
        {
          "name": "stdout",
          "output_type": "stream",
          "text": [
            "Collecting Keras==2.3.1\n",
            "\u001b[?25l  Downloading https://files.pythonhosted.org/packages/ad/fd/6bfe87920d7f4fd475acd28500a42482b6b84479832bdc0fe9e589a60ceb/Keras-2.3.1-py2.py3-none-any.whl (377kB)\n",
            "\u001b[K     |████████████████████████████████| 378kB 17.2MB/s \n",
            "\u001b[?25hRequirement already satisfied: six>=1.9.0 in /usr/local/lib/python3.7/dist-packages (from Keras==2.3.1) (1.15.0)\n",
            "Requirement already satisfied: h5py in /usr/local/lib/python3.7/dist-packages (from Keras==2.3.1) (2.10.0)\n",
            "Collecting keras-applications>=1.0.6\n",
            "\u001b[?25l  Downloading https://files.pythonhosted.org/packages/71/e3/19762fdfc62877ae9102edf6342d71b28fbfd9dea3d2f96a882ce099b03f/Keras_Applications-1.0.8-py3-none-any.whl (50kB)\n",
            "\u001b[K     |████████████████████████████████| 51kB 6.9MB/s \n",
            "\u001b[?25hRequirement already satisfied: numpy>=1.9.1 in /usr/local/lib/python3.7/dist-packages (from Keras==2.3.1) (1.19.5)\n",
            "Requirement already satisfied: pyyaml in /usr/local/lib/python3.7/dist-packages (from Keras==2.3.1) (3.13)\n",
            "Requirement already satisfied: keras-preprocessing>=1.0.5 in /usr/local/lib/python3.7/dist-packages (from Keras==2.3.1) (1.1.2)\n",
            "Requirement already satisfied: scipy>=0.14 in /usr/local/lib/python3.7/dist-packages (from Keras==2.3.1) (1.4.1)\n",
            "Installing collected packages: keras-applications, Keras\n",
            "  Found existing installation: Keras 2.4.3\n",
            "    Uninstalling Keras-2.4.3:\n",
            "      Successfully uninstalled Keras-2.4.3\n",
            "Successfully installed Keras-2.3.1 keras-applications-1.0.8\n",
            "Collecting Pillow==5.4.1\n",
            "\u001b[?25l  Downloading https://files.pythonhosted.org/packages/ae/2a/0a0ab2833e5270664fb5fae590717f867ac6319b124160c09f1d3291de28/Pillow-5.4.1-cp37-cp37m-manylinux1_x86_64.whl (2.0MB)\n",
            "\u001b[K     |████████████████████████████████| 2.0MB 15.8MB/s \n",
            "\u001b[31mERROR: bokeh 2.3.2 has requirement pillow>=7.1.0, but you'll have pillow 5.4.1 which is incompatible.\u001b[0m\n",
            "\u001b[31mERROR: albumentations 0.1.12 has requirement imgaug<0.2.7,>=0.2.5, but you'll have imgaug 0.2.9 which is incompatible.\u001b[0m\n",
            "\u001b[?25hInstalling collected packages: Pillow\n",
            "  Found existing installation: Pillow 7.1.2\n",
            "    Uninstalling Pillow-7.1.2:\n",
            "      Successfully uninstalled Pillow-7.1.2\n",
            "Successfully installed Pillow-5.4.1\n"
          ]
        },
        {
          "data": {
            "application/vnd.colab-display-data+json": {
              "pip_warning": {
                "packages": [
                  "PIL"
                ]
              }
            }
          },
          "metadata": {},
          "output_type": "display_data"
        }
      ],
      "source": [
        "!pip install scikit-learn==0.20.2\n",
        "!pip install tensorflow==2.2.0\n",
        "!pip install matplotlib==3.0.2\n",
        "!pip install Keras==2.3.1\n",
        "!pip install Pillow==5.4.1"
      ]
    },
    {
      "cell_type": "code",
      "execution_count": null,
      "metadata": {
        "id": "dw8F7RPFqEeQ"
      },
      "outputs": [],
      "source": [
        "train_path = '/content/CNN/Train'\n",
        "val_path = '/content/CNN/valid'"
      ]
    },
    {
      "cell_type": "code",
      "execution_count": null,
      "metadata": {
        "colab": {
          "base_uri": "https://localhost:8080/"
        },
        "id": "IulvDIH9qEeU",
        "outputId": "336b3504-fdc8-4f5c-b936-8ca54afb73a8"
      },
      "outputs": [
        {
          "name": "stderr",
          "output_type": "stream",
          "text": [
            "Using TensorFlow backend.\n"
          ]
        }
      ],
      "source": [
        "import numpy as np\n",
        "import matplotlib.pyplot as plt\n",
        "import keras\n",
        "from keras.layers import *\n",
        "from keras.models import *\n",
        "from keras.preprocessing import image\n",
        "from keras.callbacks import ModelCheckpoint"
      ]
    },
    {
      "cell_type": "code",
      "execution_count": null,
      "metadata": {
        "id": "8YXfkFjgqEeW"
      },
      "outputs": [],
      "source": [
        "model = Sequential()\n",
        "model.add(Conv2D(32,kernel_size=(3,3),activation='relu',input_shape=(224,224,3)))\n",
        "model.add(Conv2D(64,kernel_size=(3,3),activation='relu'))\n",
        "model.add(MaxPool2D(pool_size=(2,2)))\n",
        "model.add(Dropout(0.25))\n",
        "\n",
        "model.add(Conv2D(64,(3,3),activation='relu'))\n",
        "model.add(MaxPool2D(pool_size=(2,2)))\n",
        "model.add(Dropout(0.25))\n",
        "\n",
        "model.add(Conv2D(128,(3,3),activation='relu'))\n",
        "model.add(MaxPool2D(pool_size=(2,2)))\n",
        "model.add(Dropout(0.25))\n",
        "\n",
        "model.add(Flatten())\n",
        "model.add(Dense(64,activation='relu'))\n",
        "model.add(Dropout(0.5))\n",
        "model.add(Dense(1,activation='sigmoid'))\n",
        "\n",
        "model.compile(loss=keras.losses.binary_crossentropy,optimizer='adam',metrics=[\"accuracy\"])"
      ]
    },
    {
      "cell_type": "code",
      "execution_count": null,
      "metadata": {
        "colab": {
          "base_uri": "https://localhost:8080/"
        },
        "id": "CxU4r3c5qEeZ",
        "outputId": "f7cefe3b-584b-47a6-bfe7-9d26d4e5a801"
      },
      "outputs": [
        {
          "name": "stdout",
          "output_type": "stream",
          "text": [
            "Model: \"sequential_1\"\n",
            "_________________________________________________________________\n",
            "Layer (type)                 Output Shape              Param #   \n",
            "=================================================================\n",
            "conv2d_1 (Conv2D)            (None, 222, 222, 32)      896       \n",
            "_________________________________________________________________\n",
            "conv2d_2 (Conv2D)            (None, 220, 220, 64)      18496     \n",
            "_________________________________________________________________\n",
            "max_pooling2d_1 (MaxPooling2 (None, 110, 110, 64)      0         \n",
            "_________________________________________________________________\n",
            "dropout_1 (Dropout)          (None, 110, 110, 64)      0         \n",
            "_________________________________________________________________\n",
            "conv2d_3 (Conv2D)            (None, 108, 108, 64)      36928     \n",
            "_________________________________________________________________\n",
            "max_pooling2d_2 (MaxPooling2 (None, 54, 54, 64)        0         \n",
            "_________________________________________________________________\n",
            "dropout_2 (Dropout)          (None, 54, 54, 64)        0         \n",
            "_________________________________________________________________\n",
            "conv2d_4 (Conv2D)            (None, 52, 52, 128)       73856     \n",
            "_________________________________________________________________\n",
            "max_pooling2d_3 (MaxPooling2 (None, 26, 26, 128)       0         \n",
            "_________________________________________________________________\n",
            "dropout_3 (Dropout)          (None, 26, 26, 128)       0         \n",
            "_________________________________________________________________\n",
            "flatten_1 (Flatten)          (None, 86528)             0         \n",
            "_________________________________________________________________\n",
            "dense_1 (Dense)              (None, 64)                5537856   \n",
            "_________________________________________________________________\n",
            "dropout_4 (Dropout)          (None, 64)                0         \n",
            "_________________________________________________________________\n",
            "dense_2 (Dense)              (None, 1)                 65        \n",
            "=================================================================\n",
            "Total params: 5,668,097\n",
            "Trainable params: 5,668,097\n",
            "Non-trainable params: 0\n",
            "_________________________________________________________________\n"
          ]
        }
      ],
      "source": [
        "model.summary()"
      ]
    },
    {
      "cell_type": "code",
      "execution_count": null,
      "metadata": {
        "id": "VqkI2fGYqEee"
      },
      "outputs": [],
      "source": [
        "traindata = image.ImageDataGenerator(\n",
        "    rescale = 1./255,\n",
        "    shear_range = 0.2,\n",
        "    zoom_range = 0.2,\n",
        "    horizontal_flip = True)\n",
        "\n",
        "testdata = image.ImageDataGenerator(rescale=1./255)"
      ]
    },
    {
      "cell_type": "code",
      "execution_count": null,
      "metadata": {
        "colab": {
          "base_uri": "https://localhost:8080/"
        },
        "id": "84FrtQQgqEeg",
        "outputId": "ba726ba7-a22e-45c8-a8c1-236895d1e9ad"
      },
      "outputs": [
        {
          "name": "stdout",
          "output_type": "stream",
          "text": [
            "Found 809 images belonging to 2 classes.\n"
          ]
        }
      ],
      "source": [
        "train_generator = traindata.flow_from_directory(\n",
        "    '/content/CNN/Train',\n",
        "    target_size = (224,224),\n",
        "    batch_size = 32,\n",
        "    class_mode = 'binary')"
      ]
    },
    {
      "cell_type": "code",
      "execution_count": null,
      "metadata": {
        "colab": {
          "base_uri": "https://localhost:8080/"
        },
        "id": "P4rEOhSXqEei",
        "outputId": "d545a93c-cffc-41c2-ecc4-6b1641553a51"
      },
      "outputs": [
        {
          "data": {
            "text/plain": [
              "{'Covid-19-N': 0, 'Covid-19-P': 1}"
            ]
          },
          "execution_count": 10,
          "metadata": {
            "tags": []
          },
          "output_type": "execute_result"
        }
      ],
      "source": [
        "train_generator.class_indices"
      ]
    },
    {
      "cell_type": "code",
      "execution_count": null,
      "metadata": {
        "colab": {
          "base_uri": "https://localhost:8080/"
        },
        "id": "hXYVyRz8qEek",
        "outputId": "d2ce8510-0c87-4e62-e18e-fc4a95fcbc1e"
      },
      "outputs": [
        {
          "name": "stdout",
          "output_type": "stream",
          "text": [
            "Found 46 images belonging to 2 classes.\n"
          ]
        }
      ],
      "source": [
        "val_generator = testdata.flow_from_directory(\n",
        "    '/content/CNN/Test',\n",
        "    target_size = (224,224),\n",
        "    batch_size = 32,\n",
        "    class_mode = 'binary'\n",
        ")"
      ]
    },
    {
      "cell_type": "code",
      "execution_count": null,
      "metadata": {
        "id": "lg2E6TmoqEem"
      },
      "outputs": [],
      "source": [
        "checkpoint = ModelCheckpoint('model-{epoch:03d}.model',monitor='val_loss',verbose=0,save_best_only=True,mode='auto')"
      ]
    },
    {
      "cell_type": "code",
      "execution_count": null,
      "metadata": {
        "id": "q02QG5khlbvX"
      },
      "outputs": [],
      "source": [
        "import os"
      ]
    },
    {
      "cell_type": "code",
      "execution_count": null,
      "metadata": {
        "colab": {
          "base_uri": "https://localhost:8080/",
          "height": 387
        },
        "id": "FNByoDZJqEen",
        "outputId": "63fe641b-732b-4e35-cdb3-1915a617e01b"
      },
      "outputs": [
        {
          "name": "stdout",
          "output_type": "stream",
          "text": [
            "Epoch 1/20\n"
          ]
        },
        {
          "ename": "OSError",
          "evalue": "ignored",
          "output_type": "error",
          "traceback": [
            "\u001b[0;31m---------------------------------------------------------------------------\u001b[0m",
            "\u001b[0;31mOSError\u001b[0m                                   Traceback (most recent call last)",
            "\u001b[0;32m<ipython-input-20-805757c93427>\u001b[0m in \u001b[0;36m<module>\u001b[0;34m()\u001b[0m\n\u001b[1;32m      3\u001b[0m     \u001b[0mepochs\u001b[0m\u001b[0;34m=\u001b[0m\u001b[0;36m20\u001b[0m\u001b[0;34m,\u001b[0m\u001b[0;34m\u001b[0m\u001b[0;34m\u001b[0m\u001b[0m\n\u001b[1;32m      4\u001b[0m     \u001b[0mvalidation_data\u001b[0m\u001b[0;34m=\u001b[0m\u001b[0mval_generator\u001b[0m\u001b[0;34m,\u001b[0m\u001b[0;34m\u001b[0m\u001b[0;34m\u001b[0m\u001b[0m\n\u001b[0;32m----> 5\u001b[0;31m     \u001b[0mvalidation_steps\u001b[0m\u001b[0;34m=\u001b[0m\u001b[0;36m2\u001b[0m\u001b[0;34m\u001b[0m\u001b[0;34m\u001b[0m\u001b[0m\n\u001b[0m\u001b[1;32m      6\u001b[0m \u001b[0;34m\u001b[0m\u001b[0m\n\u001b[1;32m      7\u001b[0m )\n",
            "\u001b[0;32m/usr/local/lib/python3.7/dist-packages/keras/engine/training.py\u001b[0m in \u001b[0;36mfit\u001b[0;34m(self, x, y, batch_size, epochs, verbose, callbacks, validation_split, validation_data, shuffle, class_weight, sample_weight, initial_epoch, steps_per_epoch, validation_steps, validation_freq, max_queue_size, workers, use_multiprocessing, **kwargs)\u001b[0m\n\u001b[1;32m   1145\u001b[0m                 \u001b[0muse_multiprocessing\u001b[0m\u001b[0;34m=\u001b[0m\u001b[0muse_multiprocessing\u001b[0m\u001b[0;34m,\u001b[0m\u001b[0;34m\u001b[0m\u001b[0;34m\u001b[0m\u001b[0m\n\u001b[1;32m   1146\u001b[0m                 \u001b[0mshuffle\u001b[0m\u001b[0;34m=\u001b[0m\u001b[0mshuffle\u001b[0m\u001b[0;34m,\u001b[0m\u001b[0;34m\u001b[0m\u001b[0;34m\u001b[0m\u001b[0m\n\u001b[0;32m-> 1147\u001b[0;31m                 initial_epoch=initial_epoch)\n\u001b[0m\u001b[1;32m   1148\u001b[0m \u001b[0;34m\u001b[0m\u001b[0m\n\u001b[1;32m   1149\u001b[0m         \u001b[0;31m# Case 2: Symbolic tensors or Numpy array-like.\u001b[0m\u001b[0;34m\u001b[0m\u001b[0;34m\u001b[0m\u001b[0;34m\u001b[0m\u001b[0m\n",
            "\u001b[0;32m/usr/local/lib/python3.7/dist-packages/keras/legacy/interfaces.py\u001b[0m in \u001b[0;36mwrapper\u001b[0;34m(*args, **kwargs)\u001b[0m\n\u001b[1;32m     89\u001b[0m                 warnings.warn('Update your `' + object_name + '` call to the ' +\n\u001b[1;32m     90\u001b[0m                               'Keras 2 API: ' + signature, stacklevel=2)\n\u001b[0;32m---> 91\u001b[0;31m             \u001b[0;32mreturn\u001b[0m \u001b[0mfunc\u001b[0m\u001b[0;34m(\u001b[0m\u001b[0;34m*\u001b[0m\u001b[0margs\u001b[0m\u001b[0;34m,\u001b[0m \u001b[0;34m**\u001b[0m\u001b[0mkwargs\u001b[0m\u001b[0;34m)\u001b[0m\u001b[0;34m\u001b[0m\u001b[0;34m\u001b[0m\u001b[0m\n\u001b[0m\u001b[1;32m     92\u001b[0m         \u001b[0mwrapper\u001b[0m\u001b[0;34m.\u001b[0m\u001b[0m_original_function\u001b[0m \u001b[0;34m=\u001b[0m \u001b[0mfunc\u001b[0m\u001b[0;34m\u001b[0m\u001b[0;34m\u001b[0m\u001b[0m\n\u001b[1;32m     93\u001b[0m         \u001b[0;32mreturn\u001b[0m \u001b[0mwrapper\u001b[0m\u001b[0;34m\u001b[0m\u001b[0;34m\u001b[0m\u001b[0m\n",
            "\u001b[0;32m/usr/local/lib/python3.7/dist-packages/keras/engine/training.py\u001b[0m in \u001b[0;36mfit_generator\u001b[0;34m(self, generator, steps_per_epoch, epochs, verbose, callbacks, validation_data, validation_steps, validation_freq, class_weight, max_queue_size, workers, use_multiprocessing, shuffle, initial_epoch)\u001b[0m\n\u001b[1;32m   1730\u001b[0m             \u001b[0muse_multiprocessing\u001b[0m\u001b[0;34m=\u001b[0m\u001b[0muse_multiprocessing\u001b[0m\u001b[0;34m,\u001b[0m\u001b[0;34m\u001b[0m\u001b[0;34m\u001b[0m\u001b[0m\n\u001b[1;32m   1731\u001b[0m             \u001b[0mshuffle\u001b[0m\u001b[0;34m=\u001b[0m\u001b[0mshuffle\u001b[0m\u001b[0;34m,\u001b[0m\u001b[0;34m\u001b[0m\u001b[0;34m\u001b[0m\u001b[0m\n\u001b[0;32m-> 1732\u001b[0;31m             initial_epoch=initial_epoch)\n\u001b[0m\u001b[1;32m   1733\u001b[0m \u001b[0;34m\u001b[0m\u001b[0m\n\u001b[1;32m   1734\u001b[0m     \u001b[0;34m@\u001b[0m\u001b[0minterfaces\u001b[0m\u001b[0;34m.\u001b[0m\u001b[0mlegacy_generator_methods_support\u001b[0m\u001b[0;34m\u001b[0m\u001b[0;34m\u001b[0m\u001b[0m\n",
            "\u001b[0;32m/usr/local/lib/python3.7/dist-packages/keras/engine/training_generator.py\u001b[0m in \u001b[0;36mfit_generator\u001b[0;34m(model, generator, steps_per_epoch, epochs, verbose, callbacks, validation_data, validation_steps, validation_freq, class_weight, max_queue_size, workers, use_multiprocessing, shuffle, initial_epoch)\u001b[0m\n\u001b[1;32m    183\u001b[0m             \u001b[0mbatch_index\u001b[0m \u001b[0;34m=\u001b[0m \u001b[0;36m0\u001b[0m\u001b[0;34m\u001b[0m\u001b[0;34m\u001b[0m\u001b[0m\n\u001b[1;32m    184\u001b[0m             \u001b[0;32mwhile\u001b[0m \u001b[0msteps_done\u001b[0m \u001b[0;34m<\u001b[0m \u001b[0msteps_per_epoch\u001b[0m\u001b[0;34m:\u001b[0m\u001b[0;34m\u001b[0m\u001b[0;34m\u001b[0m\u001b[0m\n\u001b[0;32m--> 185\u001b[0;31m                 \u001b[0mgenerator_output\u001b[0m \u001b[0;34m=\u001b[0m \u001b[0mnext\u001b[0m\u001b[0;34m(\u001b[0m\u001b[0moutput_generator\u001b[0m\u001b[0;34m)\u001b[0m\u001b[0;34m\u001b[0m\u001b[0;34m\u001b[0m\u001b[0m\n\u001b[0m\u001b[1;32m    186\u001b[0m \u001b[0;34m\u001b[0m\u001b[0m\n\u001b[1;32m    187\u001b[0m                 \u001b[0;32mif\u001b[0m \u001b[0;32mnot\u001b[0m \u001b[0mhasattr\u001b[0m\u001b[0;34m(\u001b[0m\u001b[0mgenerator_output\u001b[0m\u001b[0;34m,\u001b[0m \u001b[0;34m'__len__'\u001b[0m\u001b[0;34m)\u001b[0m\u001b[0;34m:\u001b[0m\u001b[0;34m\u001b[0m\u001b[0;34m\u001b[0m\u001b[0m\n",
            "\u001b[0;32m/usr/local/lib/python3.7/dist-packages/keras/utils/data_utils.py\u001b[0m in \u001b[0;36mget\u001b[0;34m(self)\u001b[0m\n\u001b[1;32m    623\u001b[0m         \u001b[0;32mexcept\u001b[0m \u001b[0mException\u001b[0m\u001b[0;34m:\u001b[0m\u001b[0;34m\u001b[0m\u001b[0;34m\u001b[0m\u001b[0m\n\u001b[1;32m    624\u001b[0m             \u001b[0mself\u001b[0m\u001b[0;34m.\u001b[0m\u001b[0mstop\u001b[0m\u001b[0;34m(\u001b[0m\u001b[0;34m)\u001b[0m\u001b[0;34m\u001b[0m\u001b[0;34m\u001b[0m\u001b[0m\n\u001b[0;32m--> 625\u001b[0;31m             \u001b[0msix\u001b[0m\u001b[0;34m.\u001b[0m\u001b[0mreraise\u001b[0m\u001b[0;34m(\u001b[0m\u001b[0;34m*\u001b[0m\u001b[0msys\u001b[0m\u001b[0;34m.\u001b[0m\u001b[0mexc_info\u001b[0m\u001b[0;34m(\u001b[0m\u001b[0;34m)\u001b[0m\u001b[0;34m)\u001b[0m\u001b[0;34m\u001b[0m\u001b[0;34m\u001b[0m\u001b[0m\n\u001b[0m\u001b[1;32m    626\u001b[0m \u001b[0;34m\u001b[0m\u001b[0m\n\u001b[1;32m    627\u001b[0m \u001b[0;34m\u001b[0m\u001b[0m\n",
            "\u001b[0;32m/usr/local/lib/python3.7/dist-packages/six.py\u001b[0m in \u001b[0;36mreraise\u001b[0;34m(tp, value, tb)\u001b[0m\n\u001b[1;32m    701\u001b[0m             \u001b[0;32mif\u001b[0m \u001b[0mvalue\u001b[0m\u001b[0;34m.\u001b[0m\u001b[0m__traceback__\u001b[0m \u001b[0;32mis\u001b[0m \u001b[0;32mnot\u001b[0m \u001b[0mtb\u001b[0m\u001b[0;34m:\u001b[0m\u001b[0;34m\u001b[0m\u001b[0;34m\u001b[0m\u001b[0m\n\u001b[1;32m    702\u001b[0m                 \u001b[0;32mraise\u001b[0m \u001b[0mvalue\u001b[0m\u001b[0;34m.\u001b[0m\u001b[0mwith_traceback\u001b[0m\u001b[0;34m(\u001b[0m\u001b[0mtb\u001b[0m\u001b[0;34m)\u001b[0m\u001b[0;34m\u001b[0m\u001b[0;34m\u001b[0m\u001b[0m\n\u001b[0;32m--> 703\u001b[0;31m             \u001b[0;32mraise\u001b[0m \u001b[0mvalue\u001b[0m\u001b[0;34m\u001b[0m\u001b[0;34m\u001b[0m\u001b[0m\n\u001b[0m\u001b[1;32m    704\u001b[0m         \u001b[0;32mfinally\u001b[0m\u001b[0;34m:\u001b[0m\u001b[0;34m\u001b[0m\u001b[0;34m\u001b[0m\u001b[0m\n\u001b[1;32m    705\u001b[0m             \u001b[0mvalue\u001b[0m \u001b[0;34m=\u001b[0m \u001b[0;32mNone\u001b[0m\u001b[0;34m\u001b[0m\u001b[0;34m\u001b[0m\u001b[0m\n",
            "\u001b[0;32m/usr/local/lib/python3.7/dist-packages/keras/utils/data_utils.py\u001b[0m in \u001b[0;36mget\u001b[0;34m(self)\u001b[0m\n\u001b[1;32m    608\u001b[0m                 \u001b[0;32mtry\u001b[0m\u001b[0;34m:\u001b[0m\u001b[0;34m\u001b[0m\u001b[0;34m\u001b[0m\u001b[0m\n\u001b[1;32m    609\u001b[0m                     \u001b[0mfuture\u001b[0m \u001b[0;34m=\u001b[0m \u001b[0mself\u001b[0m\u001b[0;34m.\u001b[0m\u001b[0mqueue\u001b[0m\u001b[0;34m.\u001b[0m\u001b[0mget\u001b[0m\u001b[0;34m(\u001b[0m\u001b[0mblock\u001b[0m\u001b[0;34m=\u001b[0m\u001b[0;32mTrue\u001b[0m\u001b[0;34m)\u001b[0m\u001b[0;34m\u001b[0m\u001b[0;34m\u001b[0m\u001b[0m\n\u001b[0;32m--> 610\u001b[0;31m                     \u001b[0minputs\u001b[0m \u001b[0;34m=\u001b[0m \u001b[0mfuture\u001b[0m\u001b[0;34m.\u001b[0m\u001b[0mget\u001b[0m\u001b[0;34m(\u001b[0m\u001b[0mtimeout\u001b[0m\u001b[0;34m=\u001b[0m\u001b[0;36m30\u001b[0m\u001b[0;34m)\u001b[0m\u001b[0;34m\u001b[0m\u001b[0;34m\u001b[0m\u001b[0m\n\u001b[0m\u001b[1;32m    611\u001b[0m                 \u001b[0;32mexcept\u001b[0m \u001b[0mmp\u001b[0m\u001b[0;34m.\u001b[0m\u001b[0mTimeoutError\u001b[0m\u001b[0;34m:\u001b[0m\u001b[0;34m\u001b[0m\u001b[0;34m\u001b[0m\u001b[0m\n\u001b[1;32m    612\u001b[0m                     \u001b[0midx\u001b[0m \u001b[0;34m=\u001b[0m \u001b[0mfuture\u001b[0m\u001b[0;34m.\u001b[0m\u001b[0midx\u001b[0m\u001b[0;34m\u001b[0m\u001b[0;34m\u001b[0m\u001b[0m\n",
            "\u001b[0;32m/usr/lib/python3.7/multiprocessing/pool.py\u001b[0m in \u001b[0;36mget\u001b[0;34m(self, timeout)\u001b[0m\n\u001b[1;32m    655\u001b[0m             \u001b[0;32mreturn\u001b[0m \u001b[0mself\u001b[0m\u001b[0;34m.\u001b[0m\u001b[0m_value\u001b[0m\u001b[0;34m\u001b[0m\u001b[0;34m\u001b[0m\u001b[0m\n\u001b[1;32m    656\u001b[0m         \u001b[0;32melse\u001b[0m\u001b[0;34m:\u001b[0m\u001b[0;34m\u001b[0m\u001b[0;34m\u001b[0m\u001b[0m\n\u001b[0;32m--> 657\u001b[0;31m             \u001b[0;32mraise\u001b[0m \u001b[0mself\u001b[0m\u001b[0;34m.\u001b[0m\u001b[0m_value\u001b[0m\u001b[0;34m\u001b[0m\u001b[0;34m\u001b[0m\u001b[0m\n\u001b[0m\u001b[1;32m    658\u001b[0m \u001b[0;34m\u001b[0m\u001b[0m\n\u001b[1;32m    659\u001b[0m     \u001b[0;32mdef\u001b[0m \u001b[0m_set\u001b[0m\u001b[0;34m(\u001b[0m\u001b[0mself\u001b[0m\u001b[0;34m,\u001b[0m \u001b[0mi\u001b[0m\u001b[0;34m,\u001b[0m \u001b[0mobj\u001b[0m\u001b[0;34m)\u001b[0m\u001b[0;34m:\u001b[0m\u001b[0;34m\u001b[0m\u001b[0;34m\u001b[0m\u001b[0m\n",
            "\u001b[0;32m/usr/lib/python3.7/multiprocessing/pool.py\u001b[0m in \u001b[0;36mworker\u001b[0;34m(inqueue, outqueue, initializer, initargs, maxtasks, wrap_exception)\u001b[0m\n\u001b[1;32m    119\u001b[0m         \u001b[0mjob\u001b[0m\u001b[0;34m,\u001b[0m \u001b[0mi\u001b[0m\u001b[0;34m,\u001b[0m \u001b[0mfunc\u001b[0m\u001b[0;34m,\u001b[0m \u001b[0margs\u001b[0m\u001b[0;34m,\u001b[0m \u001b[0mkwds\u001b[0m \u001b[0;34m=\u001b[0m \u001b[0mtask\u001b[0m\u001b[0;34m\u001b[0m\u001b[0;34m\u001b[0m\u001b[0m\n\u001b[1;32m    120\u001b[0m         \u001b[0;32mtry\u001b[0m\u001b[0;34m:\u001b[0m\u001b[0;34m\u001b[0m\u001b[0;34m\u001b[0m\u001b[0m\n\u001b[0;32m--> 121\u001b[0;31m             \u001b[0mresult\u001b[0m \u001b[0;34m=\u001b[0m \u001b[0;34m(\u001b[0m\u001b[0;32mTrue\u001b[0m\u001b[0;34m,\u001b[0m \u001b[0mfunc\u001b[0m\u001b[0;34m(\u001b[0m\u001b[0;34m*\u001b[0m\u001b[0margs\u001b[0m\u001b[0;34m,\u001b[0m \u001b[0;34m**\u001b[0m\u001b[0mkwds\u001b[0m\u001b[0;34m)\u001b[0m\u001b[0;34m)\u001b[0m\u001b[0;34m\u001b[0m\u001b[0;34m\u001b[0m\u001b[0m\n\u001b[0m\u001b[1;32m    122\u001b[0m         \u001b[0;32mexcept\u001b[0m \u001b[0mException\u001b[0m \u001b[0;32mas\u001b[0m \u001b[0me\u001b[0m\u001b[0;34m:\u001b[0m\u001b[0;34m\u001b[0m\u001b[0;34m\u001b[0m\u001b[0m\n\u001b[1;32m    123\u001b[0m             \u001b[0;32mif\u001b[0m \u001b[0mwrap_exception\u001b[0m \u001b[0;32mand\u001b[0m \u001b[0mfunc\u001b[0m \u001b[0;32mis\u001b[0m \u001b[0;32mnot\u001b[0m \u001b[0m_helper_reraises_exception\u001b[0m\u001b[0;34m:\u001b[0m\u001b[0;34m\u001b[0m\u001b[0;34m\u001b[0m\u001b[0m\n",
            "\u001b[0;32m/usr/local/lib/python3.7/dist-packages/keras/utils/data_utils.py\u001b[0m in \u001b[0;36mget_index\u001b[0;34m(uid, i)\u001b[0m\n\u001b[1;32m    404\u001b[0m         \u001b[0mThe\u001b[0m \u001b[0mvalue\u001b[0m \u001b[0mat\u001b[0m \u001b[0mindex\u001b[0m\u001b[0;31m \u001b[0m\u001b[0;31m`\u001b[0m\u001b[0mi\u001b[0m\u001b[0;31m`\u001b[0m\u001b[0;34m.\u001b[0m\u001b[0;34m\u001b[0m\u001b[0;34m\u001b[0m\u001b[0m\n\u001b[1;32m    405\u001b[0m     \"\"\"\n\u001b[0;32m--> 406\u001b[0;31m     \u001b[0;32mreturn\u001b[0m \u001b[0m_SHARED_SEQUENCES\u001b[0m\u001b[0;34m[\u001b[0m\u001b[0muid\u001b[0m\u001b[0;34m]\u001b[0m\u001b[0;34m[\u001b[0m\u001b[0mi\u001b[0m\u001b[0;34m]\u001b[0m\u001b[0;34m\u001b[0m\u001b[0;34m\u001b[0m\u001b[0m\n\u001b[0m\u001b[1;32m    407\u001b[0m \u001b[0;34m\u001b[0m\u001b[0m\n\u001b[1;32m    408\u001b[0m \u001b[0;34m\u001b[0m\u001b[0m\n",
            "\u001b[0;32m/usr/local/lib/python3.7/dist-packages/keras_preprocessing/image/iterator.py\u001b[0m in \u001b[0;36m__getitem__\u001b[0;34m(self, idx)\u001b[0m\n\u001b[1;32m     63\u001b[0m         index_array = self.index_array[self.batch_size * idx:\n\u001b[1;32m     64\u001b[0m                                        self.batch_size * (idx + 1)]\n\u001b[0;32m---> 65\u001b[0;31m         \u001b[0;32mreturn\u001b[0m \u001b[0mself\u001b[0m\u001b[0;34m.\u001b[0m\u001b[0m_get_batches_of_transformed_samples\u001b[0m\u001b[0;34m(\u001b[0m\u001b[0mindex_array\u001b[0m\u001b[0;34m)\u001b[0m\u001b[0;34m\u001b[0m\u001b[0;34m\u001b[0m\u001b[0m\n\u001b[0m\u001b[1;32m     66\u001b[0m \u001b[0;34m\u001b[0m\u001b[0m\n\u001b[1;32m     67\u001b[0m     \u001b[0;32mdef\u001b[0m \u001b[0m__len__\u001b[0m\u001b[0;34m(\u001b[0m\u001b[0mself\u001b[0m\u001b[0;34m)\u001b[0m\u001b[0;34m:\u001b[0m\u001b[0;34m\u001b[0m\u001b[0;34m\u001b[0m\u001b[0m\n",
            "\u001b[0;32m/usr/local/lib/python3.7/dist-packages/keras_preprocessing/image/iterator.py\u001b[0m in \u001b[0;36m_get_batches_of_transformed_samples\u001b[0;34m(self, index_array)\u001b[0m\n\u001b[1;32m    228\u001b[0m                            \u001b[0mcolor_mode\u001b[0m\u001b[0;34m=\u001b[0m\u001b[0mself\u001b[0m\u001b[0;34m.\u001b[0m\u001b[0mcolor_mode\u001b[0m\u001b[0;34m,\u001b[0m\u001b[0;34m\u001b[0m\u001b[0;34m\u001b[0m\u001b[0m\n\u001b[1;32m    229\u001b[0m                            \u001b[0mtarget_size\u001b[0m\u001b[0;34m=\u001b[0m\u001b[0mself\u001b[0m\u001b[0;34m.\u001b[0m\u001b[0mtarget_size\u001b[0m\u001b[0;34m,\u001b[0m\u001b[0;34m\u001b[0m\u001b[0;34m\u001b[0m\u001b[0m\n\u001b[0;32m--> 230\u001b[0;31m                            interpolation=self.interpolation)\n\u001b[0m\u001b[1;32m    231\u001b[0m             \u001b[0mx\u001b[0m \u001b[0;34m=\u001b[0m \u001b[0mimg_to_array\u001b[0m\u001b[0;34m(\u001b[0m\u001b[0mimg\u001b[0m\u001b[0;34m,\u001b[0m \u001b[0mdata_format\u001b[0m\u001b[0;34m=\u001b[0m\u001b[0mself\u001b[0m\u001b[0;34m.\u001b[0m\u001b[0mdata_format\u001b[0m\u001b[0;34m)\u001b[0m\u001b[0;34m\u001b[0m\u001b[0;34m\u001b[0m\u001b[0m\n\u001b[1;32m    232\u001b[0m             \u001b[0;31m# Pillow images should be closed after `load_img`,\u001b[0m\u001b[0;34m\u001b[0m\u001b[0;34m\u001b[0m\u001b[0;34m\u001b[0m\u001b[0m\n",
            "\u001b[0;32m/usr/local/lib/python3.7/dist-packages/keras_preprocessing/image/utils.py\u001b[0m in \u001b[0;36mload_img\u001b[0;34m(path, grayscale, color_mode, target_size, interpolation)\u001b[0m\n\u001b[1;32m    112\u001b[0m                           'The use of `load_img` requires PIL.')\n\u001b[1;32m    113\u001b[0m     \u001b[0;32mwith\u001b[0m \u001b[0mopen\u001b[0m\u001b[0;34m(\u001b[0m\u001b[0mpath\u001b[0m\u001b[0;34m,\u001b[0m \u001b[0;34m'rb'\u001b[0m\u001b[0;34m)\u001b[0m \u001b[0;32mas\u001b[0m \u001b[0mf\u001b[0m\u001b[0;34m:\u001b[0m\u001b[0;34m\u001b[0m\u001b[0;34m\u001b[0m\u001b[0m\n\u001b[0;32m--> 114\u001b[0;31m         \u001b[0mimg\u001b[0m \u001b[0;34m=\u001b[0m \u001b[0mpil_image\u001b[0m\u001b[0;34m.\u001b[0m\u001b[0mopen\u001b[0m\u001b[0;34m(\u001b[0m\u001b[0mio\u001b[0m\u001b[0;34m.\u001b[0m\u001b[0mBytesIO\u001b[0m\u001b[0;34m(\u001b[0m\u001b[0mf\u001b[0m\u001b[0;34m.\u001b[0m\u001b[0mread\u001b[0m\u001b[0;34m(\u001b[0m\u001b[0;34m)\u001b[0m\u001b[0;34m)\u001b[0m\u001b[0;34m)\u001b[0m\u001b[0;34m\u001b[0m\u001b[0;34m\u001b[0m\u001b[0m\n\u001b[0m\u001b[1;32m    115\u001b[0m         \u001b[0;32mif\u001b[0m \u001b[0mcolor_mode\u001b[0m \u001b[0;34m==\u001b[0m \u001b[0;34m'grayscale'\u001b[0m\u001b[0;34m:\u001b[0m\u001b[0;34m\u001b[0m\u001b[0;34m\u001b[0m\u001b[0m\n\u001b[1;32m    116\u001b[0m             \u001b[0;31m# if image is not already an 8-bit, 16-bit or 32-bit grayscale image\u001b[0m\u001b[0;34m\u001b[0m\u001b[0;34m\u001b[0m\u001b[0;34m\u001b[0m\u001b[0m\n",
            "\u001b[0;32m/usr/local/lib/python3.7/dist-packages/PIL/Image.py\u001b[0m in \u001b[0;36mopen\u001b[0;34m(fp, mode)\u001b[0m\n\u001b[1;32m   2685\u001b[0m         \u001b[0mwarnings\u001b[0m\u001b[0;34m.\u001b[0m\u001b[0mwarn\u001b[0m\u001b[0;34m(\u001b[0m\u001b[0mmessage\u001b[0m\u001b[0;34m)\u001b[0m\u001b[0;34m\u001b[0m\u001b[0;34m\u001b[0m\u001b[0m\n\u001b[1;32m   2686\u001b[0m     raise IOError(\"cannot identify image file %r\"\n\u001b[0;32m-> 2687\u001b[0;31m                   % (filename if filename else fp))\n\u001b[0m\u001b[1;32m   2688\u001b[0m \u001b[0;34m\u001b[0m\u001b[0m\n\u001b[1;32m   2689\u001b[0m \u001b[0;31m#\u001b[0m\u001b[0;34m\u001b[0m\u001b[0;34m\u001b[0m\u001b[0;34m\u001b[0m\u001b[0m\n",
            "\u001b[0;31mOSError\u001b[0m: cannot identify image file <_io.BytesIO object at 0x7fb1349dbe30>"
          ]
        }
      ],
      "source": [
        "hist = model.fit(\n",
        "    train_generator,\n",
        "    epochs=20,\n",
        "    validation_data=val_generator,\n",
        "    validation_steps=2\n",
        "\n",
        ")"
      ]
    },
    {
      "cell_type": "code",
      "execution_count": null,
      "metadata": {
        "id": "2eegAfesqEeo",
        "outputId": "598ca7e7-ee73-4c52-9140-11984b52b60d"
      },
      "outputs": [
        {
          "data": {
            "image/png": "[encoded data removed]",
            "text/plain": [
              "<Figure size 432x288 with 1 Axes>"
            ]
          },
          "metadata": {
            "tags": []
          },
          "output_type": "display_data"
        }
      ],
      "source": [
        "from matplotlib import pyplot as plt\n",
        "\n",
        "plt.plot(hist.history['loss'],'r',label='training loss')\n",
        "plt.plot(hist.history['val_loss'],label='validation loss')\n",
        "plt.xlabel('epochs')\n",
        "plt.ylabel('loss')\n",
        "plt.legend()\n",
        "plt.show()"
      ]
    },
    {
      "cell_type": "code",
      "execution_count": null,
      "metadata": {
        "id": "4olcXyAjqEeq",
        "outputId": "9b1f459c-beff-42be-99b8-9423747f9c7e"
      },
      "outputs": [
        {
          "data": {
            "image/png": "[encoded data removed]",
            "text/plain": [
              "<Figure size 432x288 with 1 Axes>"
            ]
          },
          "metadata": {
            "tags": []
          },
          "output_type": "display_data"
        }
      ],
      "source": [
        "plt.plot(hist.history['accuracy'],'r',label='training accuracy')\n",
        "plt.plot(hist.history['val_accuracy'],label='validation accuracy')\n",
        "plt.xlabel('epochs')\n",
        "plt.ylabel('Accuracy')\n",
        "plt.legend()\n",
        "plt.show()"
      ]
    },
    {
      "cell_type": "code",
      "execution_count": null,
      "metadata": {
        "id": "4F0cW5PUqEer",
        "outputId": "6af2187c-32ac-4d1b-bae9-ce90b2de5699"
      },
      "outputs": [
        {
          "name": "stdout",
          "output_type": "stream",
          "text": [
            "training_accuracy 0.9709471464157104\n",
            "validation_accuracy 0.984375\n"
          ]
        }
      ],
      "source": [
        "print(\"training_accuracy\", hist.history['accuracy'][-1])\n",
        "print(\"validation_accuracy\", hist.history['val_accuracy'][-1])"
      ]
    },
    {
      "cell_type": "code",
      "execution_count": null,
      "metadata": {
        "id": "7E9FtzjqqEes",
        "outputId": "9b2c2aa2-fd58-4d56-f1bd-58eb9a0ef243"
      },
      "outputs": [
        {
          "name": "stdout",
          "output_type": "stream",
          "text": [
            "training loss 0.08724293857812881\n",
            "validation loss 0.02247922308743\n"
          ]
        }
      ],
      "source": [
        "print(\"training loss\", hist.history['loss'][-1])\n",
        "print(\"validation loss\", hist.history['val_loss'][-1])"
      ]
    },
    {
      "cell_type": "code",
      "execution_count": null,
      "metadata": {
        "id": "43BuMnHhqEet"
      },
      "outputs": [],
      "source": [
        ""
      ]
    },
    {
      "cell_type": "code",
      "execution_count": null,
      "metadata": {
        "id": "YLTh5-4gqEet"
      },
      "outputs": [],
      "source": [
        "pred= model.predict(val_generator)\n",
        "predicted_class_indices=np.argmax(pred,axis=1)"
      ]
    },
    {
      "cell_type": "code",
      "execution_count": null,
      "metadata": {
        "id": "WQ6pi3NCqEeu"
      },
      "outputs": [],
      "source": [
        "label = val_generator.classes"
      ]
    },
    {
      "cell_type": "code",
      "execution_count": null,
      "metadata": {
        "id": "BQOJM0dqqEev"
      },
      "outputs": [],
      "source": [
        "labels = (val_generator.class_indices)"
      ]
    },
    {
      "cell_type": "code",
      "execution_count": null,
      "metadata": {
        "id": "tdpu5rrmqEev",
        "outputId": "60ccd292-3bff-497c-a055-ac8f18b58abd"
      },
      "outputs": [
        {
          "data": {
            "text/plain": [
              "array([[136,  64],\n",
              "       [  0,   0]], dtype=int64)"
            ]
          },
          "execution_count": 36,
          "metadata": {
            "tags": []
          },
          "output_type": "execute_result"
        }
      ],
      "source": [
        "from sklearn.metrics import confusion_matrix\n",
        "\n",
        "cf = confusion_matrix(predicted_class_indices,label)\n",
        "cf"
      ]
    },
    {
      "cell_type": "code",
      "execution_count": null,
      "metadata": {
        "id": "BE3AHt1bqEew",
        "outputId": "4f5e0351-2917-4316-f3f4-9f352385fb42"
      },
      "outputs": [
        {
          "data": {
            "text/html": [
              "<div>\n",
              "<style scoped>\n",
              "    .dataframe tbody tr th:only-of-type {\n",
              "        vertical-align: middle;\n",
              "    }\n",
              "\n",
              "    .dataframe tbody tr th {\n",
              "        vertical-align: top;\n",
              "    }\n",
              "\n",
              "    .dataframe thead th {\n",
              "        text-align: right;\n",
              "    }\n",
              "</style>\n",
              "<table border=\"1\" class=\"dataframe\">\n",
              "  <thead>\n",
              "    <tr style=\"text-align: right;\">\n",
              "      <th>Predicted</th>\n",
              "      <th>0</th>\n",
              "      <th>All</th>\n",
              "    </tr>\n",
              "    <tr>\n",
              "      <th>Actual</th>\n",
              "      <th></th>\n",
              "      <th></th>\n",
              "    </tr>\n",
              "  </thead>\n",
              "  <tbody>\n",
              "    <tr>\n",
              "      <th>0</th>\n",
              "      <td>136</td>\n",
              "      <td>136</td>\n",
              "    </tr>\n",
              "    <tr>\n",
              "      <th>1</th>\n",
              "      <td>64</td>\n",
              "      <td>64</td>\n",
              "    </tr>\n",
              "    <tr>\n",
              "      <th>All</th>\n",
              "      <td>200</td>\n",
              "      <td>200</td>\n",
              "    </tr>\n",
              "  </tbody>\n",
              "</table>\n",
              "</div>"
            ],
            "text/plain": [
              "Predicted    0  All\n",
              "Actual             \n",
              "0          136  136\n",
              "1           64   64\n",
              "All        200  200"
            ]
          },
          "execution_count": 38,
          "metadata": {
            "tags": []
          },
          "output_type": "execute_result"
        }
      ],
      "source": [
        "import pandas as pd\n",
        "\n",
        "exp_series = pd.Series(label)\n",
        "pred_series = pd.Series(predicted_class_indices)\n",
        "pd.crosstab(exp_series, pred_series, rownames=['Actual'], colnames=['Predicted'],margins=True)"
      ]
    },
    {
      "cell_type": "code",
      "execution_count": null,
      "metadata": {
        "id": "J95KfCx6qEex",
        "outputId": "bb0263a1-1261-4469-e99a-fd20915479cd"
      },
      "outputs": [
        {
          "data": {
            "text/plain": [
              "(1, 224, 224, 3)"
            ]
          },
          "execution_count": 46,
          "metadata": {
            "tags": []
          },
          "output_type": "execute_result"
        }
      ],
      "source": [
        "path = \"Your_test_image_path\"\n",
        "img= image.load_img(path,target_size=(224,224))\n",
        "\n",
        "img = image.img_to_array(img)/255\n",
        "img = np.array([img])\n",
        "img.shape"
      ]
    },
    {
      "cell_type": "code",
      "execution_count": null,
      "metadata": {
        "id": "Odyuld_nqEey",
        "outputId": "d1f30656-9bc7-4ae1-fad8-cb07cf469ef9"
      },
      "outputs": [
        {
          "name": "stderr",
          "output_type": "stream",
          "text": [
            "C:\\Users\\admin\\anaconda3\\lib\\site-packages\\tensorflow\\python\\keras\\engine\\sequential.py:450: UserWarning: `model.predict_classes()` is deprecated and will be removed after 2021-01-01. Please use instead:* `np.argmax(model.predict(x), axis=-1)`,   if your model does multi-class classification   (e.g. if it uses a `softmax` last-layer activation).* `(model.predict(x) > 0.5).astype(\"int32\")`,   if your model does binary classification   (e.g. if it uses a `sigmoid` last-layer activation).\n",
            "  warnings.warn('`model.predict_classes()` is deprecated and '\n"
          ]
        },
        {
          "data": {
            "text/plain": [
              "array([[1]])"
            ]
          },
          "execution_count": 47,
          "metadata": {
            "tags": []
          },
          "output_type": "execute_result"
        }
      ],
      "source": [
        "model.predict_classes(img)"
      ]
    },
    {
      "cell_type": "code",
      "execution_count": null,
      "metadata": {
        "id": "IQJ_rWWjqEez"
      },
      "outputs": [],
      "source": [
        ""
      ]
    },
    {
      "cell_type": "code",
      "execution_count": null,
      "metadata": {
        "id": "5R-ZYCIlqEe0"
      },
      "outputs": [],
      "source": [
        ""
      ]
    },
    {
      "cell_type": "code",
      "execution_count": null,
      "metadata": {
        "id": "lQmlfiKuqEe0"
      },
      "outputs": [],
      "source": [
        ""
      ]
    },
    {
      "cell_type": "code",
      "execution_count": null,
      "metadata": {
        "id": "ltfXbBbcqEe1"
      },
      "outputs": [],
      "source": [
        ""
      ]
    }
  ],
  "metadata": {
    "colab": {
      "name": "CovidCNNFinal 2.ipynb",
      "provenance": [],
      "collapsed_sections": []
    },
    "kernelspec": {
      "display_name": "Python 3",
      "language": "python",
      "name": "python3"
    },
    "language_info": {
      "codemirror_mode": {
        "name": "ipython",
        "version": 3
      },
      "file_extension": ".py",
      "mimetype": "text/x-python",
      "name": "python",
      "nbconvert_exporter": "python",
      "pygments_lexer": "ipython3",
      "version": "3.8.5"
    }
  },
  "nbformat": 4,
  "nbformat_minor": 0
}